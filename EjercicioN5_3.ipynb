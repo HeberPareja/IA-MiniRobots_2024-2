{
  "nbformat": 4,
  "nbformat_minor": 0,
  "metadata": {
    "colab": {
      "provenance": [],
      "authorship_tag": "ABX9TyPE0oShL6P3Q1+g1BW+yxoD",
      "include_colab_link": true
    },
    "kernelspec": {
      "name": "python3",
      "display_name": "Python 3"
    },
    "language_info": {
      "name": "python"
    }
  },
  "cells": [
    {
      "cell_type": "markdown",
      "metadata": {
        "id": "view-in-github",
        "colab_type": "text"
      },
      "source": [
        "<a href=\"https://colab.research.google.com/github/HeberPareja/IA-MiniRobots_2024-2/blob/master/EjercicioN5_3.ipynb\" target=\"_parent\"><img src=\"https://colab.research.google.com/assets/colab-badge.svg\" alt=\"Open In Colab\"/></a>"
      ]
    },
    {
      "cell_type": "markdown",
      "source": [
        "*   Ejercicio N° 5.3\n",
        "*   Universidad Nacional de Colombia\n",
        "*   Inteligencia Artificial y Mini-Robots 2024-2\n",
        "*   Heber Alexander Pareja Romero\n",
        "*   haparejar@unal.edu.co"
      ],
      "metadata": {
        "id": "WALElzkIq2c_"
      }
    },
    {
      "cell_type": "markdown",
      "source": [
        "# **<> Introducción**"
      ],
      "metadata": {
        "id": "ZH1KVZsJmKQO"
      }
    },
    {
      "cell_type": "markdown",
      "source": [
        "Este código implementa una red neuronal con TensorFlow y Keras para clasificar la calidad del vino tinto utilizando un conjunto de datos del UCI Machine Learning Repository. Primero, carga los datos y los preprocesa separando las características de la variable objetivo, normalizando los valores de entrada y convirtiendo las etiquetas en formato one-hot para la clasificación multiclase. Luego, divide el dataset en un 80 por ciento para entrenamiento y un 20 por ciento para prueba. A continuación, construye una red neuronal con dos capas ocultas de 64 y 32 neuronas, utilizando la activación relu, y una capa de salida con activación softmax para la clasificación. El modelo se compila con el optimizador adam y la función de pérdida categorical crossentropy, y se entrena durante 50 épocas. Finalmente, se evalúa su precisión en el conjunto de prueba y se generan predicciones sobre los datos de test, comparando las etiquetas reales con las predichas en algunos ejemplos."
      ],
      "metadata": {
        "id": "Zw88cIYbrhz5"
      }
    },
    {
      "cell_type": "markdown",
      "source": [
        "# **<> Desarrollo**"
      ],
      "metadata": {
        "id": "Y27LZpEUmLRG"
      }
    },
    {
      "cell_type": "code",
      "source": [
        "import tensorflow as tf  # Importar TensorFlow para redes neuronales\n",
        "import pandas as pd  # Importar pandas para manejar los datos\n",
        "import numpy as np  # Importar numpy para operaciones matemáticas\n",
        "from sklearn.model_selection import train_test_split  # Para dividir los datos en entrenamiento y prueba\n",
        "from sklearn.preprocessing import StandardScaler  # Para normalizar los datos\n",
        "from tensorflow import keras  # Importar Keras para la red neuronal\n",
        "from tensorflow.keras import layers  # Importar las capas necesarias\n",
        "\n",
        "# Cargar el dataset\n",
        "url = \"https://archive.ics.uci.edu/ml/machine-learning-databases/wine-quality/winequality-red.csv\"\n",
        "df = pd.read_csv(url, delimiter=';')  # Leer el archivo CSV con separador ';'\n",
        "\n",
        "# Separar características (X) y etiquetas (y)\n",
        "X = df.drop(columns=[\"quality\"])  # Eliminar la columna \"quality\" para obtener solo características\n",
        "y = df[\"quality\"]  # Extraer la columna de calidad como la variable objetivo\n",
        "\n",
        "# Normalizar las características\n",
        "scaler = StandardScaler()  # Crear un objeto para normalizar los datos\n",
        "X = scaler.fit_transform(X)  # Ajustar y transformar los datos de entrada\n",
        "\n",
        "# Convertir la variable de salida en categorías (clasificación multiclase)\n",
        "y = keras.utils.to_categorical(y - min(y))  # Convertir etiquetas a formato one-hot\n",
        "\n",
        "# Dividir los datos en conjuntos de entrenamiento (80%) y prueba (20%)\n",
        "X_train, X_test, y_train, y_test = train_test_split(X, y, test_size=0.2, random_state=42)\n",
        "\n",
        "# Construir la red neuronal\n",
        "model = keras.Sequential([\n",
        "    layers.Dense(64, activation='relu', input_shape=(X_train.shape[1],)),  # Capa oculta con 64 neuronas y ReLU\n",
        "    layers.Dense(32, activation='relu'),  # Segunda capa oculta con 32 neuronas y ReLU\n",
        "    layers.Dense(y.shape[1], activation='softmax')  # Capa de salida con activación softmax\n",
        "])\n",
        "\n",
        "# Compilar el modelo\n",
        "model.compile(optimizer='adam', loss='categorical_crossentropy', metrics=['accuracy'])\n",
        "\n",
        "# Entrenar el modelo\n",
        "epochs = 50  # Número de épocas\n",
        "history = model.fit(X_train, y_train, epochs=epochs, batch_size=16, validation_data=(X_test, y_test))\n",
        "\n",
        "# Evaluar el modelo con los datos de prueba\n",
        "test_loss, test_acc = model.evaluate(X_test, y_test, verbose=2)\n",
        "print(f\"Test Accuracy: {test_acc:.4f}\")\n",
        "\n",
        "# Hacer predicciones sobre el conjunto de prueba\n",
        "y_pred = model.predict(X_test)\n",
        "\n",
        "# Convertir las predicciones y etiquetas reales de one-hot a valores originales\n",
        "y_pred_classes = np.argmax(y_pred, axis=1)  # Obtener la clase con mayor probabilidad\n",
        "y_test_classes = np.argmax(y_test, axis=1)  # Convertir las etiquetas reales a valores originales\n",
        "\n",
        "# Mostrar algunas predicciones comparadas con las etiquetas reales\n",
        "print(\"\\nEjemplos de predicciones:\")\n",
        "for i in range(15):  # Mostrar las primeras 15 predicciones\n",
        "    print(f\"Real: {y_test_classes[i]}, Predicho: {y_pred_classes[i]}\")"
      ],
      "metadata": {
        "id": "OGy2uixkmXWT",
        "colab": {
          "base_uri": "https://localhost:8080/"
        },
        "outputId": "bd7896ad-c166-4fd5-ee19-4b694277d7fa"
      },
      "execution_count": null,
      "outputs": [
        {
          "output_type": "stream",
          "name": "stdout",
          "text": [
            "Epoch 1/50\n"
          ]
        },
        {
          "output_type": "stream",
          "name": "stderr",
          "text": [
            "/usr/local/lib/python3.11/dist-packages/keras/src/layers/core/dense.py:87: UserWarning: Do not pass an `input_shape`/`input_dim` argument to a layer. When using Sequential models, prefer using an `Input(shape)` object as the first layer in the model instead.\n",
            "  super().__init__(activity_regularizer=activity_regularizer, **kwargs)\n"
          ]
        },
        {
          "output_type": "stream",
          "name": "stdout",
          "text": [
            "\u001b[1m80/80\u001b[0m \u001b[32m━━━━━━━━━━━━━━━━━━━━\u001b[0m\u001b[37m\u001b[0m \u001b[1m2s\u001b[0m 6ms/step - accuracy: 0.2944 - loss: 1.6888 - val_accuracy: 0.5250 - val_loss: 1.1858\n",
            "Epoch 2/50\n",
            "\u001b[1m80/80\u001b[0m \u001b[32m━━━━━━━━━━━━━━━━━━━━\u001b[0m\u001b[37m\u001b[0m \u001b[1m0s\u001b[0m 3ms/step - accuracy: 0.5705 - loss: 1.1184 - val_accuracy: 0.5594 - val_loss: 1.0331\n",
            "Epoch 3/50\n",
            "\u001b[1m80/80\u001b[0m \u001b[32m━━━━━━━━━━━━━━━━━━━━\u001b[0m\u001b[37m\u001b[0m \u001b[1m0s\u001b[0m 4ms/step - accuracy: 0.6051 - loss: 0.9834 - val_accuracy: 0.5406 - val_loss: 1.0097\n",
            "Epoch 4/50\n",
            "\u001b[1m80/80\u001b[0m \u001b[32m━━━━━━━━━━━━━━━━━━━━\u001b[0m\u001b[37m\u001b[0m \u001b[1m1s\u001b[0m 6ms/step - accuracy: 0.5994 - loss: 0.9831 - val_accuracy: 0.5625 - val_loss: 0.9867\n",
            "Epoch 5/50\n",
            "\u001b[1m80/80\u001b[0m \u001b[32m━━━━━━━━━━━━━━━━━━━━\u001b[0m\u001b[37m\u001b[0m \u001b[1m0s\u001b[0m 3ms/step - accuracy: 0.6396 - loss: 0.9547 - val_accuracy: 0.5250 - val_loss: 0.9713\n",
            "Epoch 6/50\n",
            "\u001b[1m80/80\u001b[0m \u001b[32m━━━━━━━━━━━━━━━━━━━━\u001b[0m\u001b[37m\u001b[0m \u001b[1m0s\u001b[0m 3ms/step - accuracy: 0.6139 - loss: 0.9159 - val_accuracy: 0.5688 - val_loss: 0.9581\n",
            "Epoch 7/50\n",
            "\u001b[1m80/80\u001b[0m \u001b[32m━━━━━━━━━━━━━━━━━━━━\u001b[0m\u001b[37m\u001b[0m \u001b[1m1s\u001b[0m 5ms/step - accuracy: 0.6375 - loss: 0.9009 - val_accuracy: 0.5844 - val_loss: 0.9553\n",
            "Epoch 8/50\n",
            "\u001b[1m80/80\u001b[0m \u001b[32m━━━━━━━━━━━━━━━━━━━━\u001b[0m\u001b[37m\u001b[0m \u001b[1m1s\u001b[0m 8ms/step - accuracy: 0.6244 - loss: 0.8898 - val_accuracy: 0.5750 - val_loss: 0.9355\n",
            "Epoch 9/50\n",
            "\u001b[1m80/80\u001b[0m \u001b[32m━━━━━━━━━━━━━━━━━━━━\u001b[0m\u001b[37m\u001b[0m \u001b[1m1s\u001b[0m 6ms/step - accuracy: 0.6529 - loss: 0.8920 - val_accuracy: 0.5719 - val_loss: 0.9337\n",
            "Epoch 10/50\n",
            "\u001b[1m80/80\u001b[0m \u001b[32m━━━━━━━━━━━━━━━━━━━━\u001b[0m\u001b[37m\u001b[0m \u001b[1m1s\u001b[0m 6ms/step - accuracy: 0.6363 - loss: 0.8757 - val_accuracy: 0.5906 - val_loss: 0.9286\n",
            "Epoch 11/50\n",
            "\u001b[1m80/80\u001b[0m \u001b[32m━━━━━━━━━━━━━━━━━━━━\u001b[0m\u001b[37m\u001b[0m \u001b[1m1s\u001b[0m 7ms/step - accuracy: 0.6287 - loss: 0.9281 - val_accuracy: 0.5719 - val_loss: 0.9236\n",
            "Epoch 12/50\n",
            "\u001b[1m80/80\u001b[0m \u001b[32m━━━━━━━━━━━━━━━━━━━━\u001b[0m\u001b[37m\u001b[0m \u001b[1m1s\u001b[0m 6ms/step - accuracy: 0.6317 - loss: 0.8809 - val_accuracy: 0.5688 - val_loss: 0.9253\n",
            "Epoch 13/50\n",
            "\u001b[1m80/80\u001b[0m \u001b[32m━━━━━━━━━━━━━━━━━━━━\u001b[0m\u001b[37m\u001b[0m \u001b[1m0s\u001b[0m 5ms/step - accuracy: 0.6234 - loss: 0.8664 - val_accuracy: 0.5844 - val_loss: 0.9266\n",
            "Epoch 14/50\n",
            "\u001b[1m80/80\u001b[0m \u001b[32m━━━━━━━━━━━━━━━━━━━━\u001b[0m\u001b[37m\u001b[0m \u001b[1m0s\u001b[0m 3ms/step - accuracy: 0.6484 - loss: 0.8596 - val_accuracy: 0.5844 - val_loss: 0.9109\n",
            "Epoch 15/50\n",
            "\u001b[1m80/80\u001b[0m \u001b[32m━━━━━━━━━━━━━━━━━━━━\u001b[0m\u001b[37m\u001b[0m \u001b[1m0s\u001b[0m 4ms/step - accuracy: 0.6666 - loss: 0.8559 - val_accuracy: 0.5844 - val_loss: 0.9025\n",
            "Epoch 16/50\n",
            "\u001b[1m80/80\u001b[0m \u001b[32m━━━━━━━━━━━━━━━━━━━━\u001b[0m\u001b[37m\u001b[0m \u001b[1m1s\u001b[0m 3ms/step - accuracy: 0.6267 - loss: 0.8759 - val_accuracy: 0.5719 - val_loss: 0.9133\n",
            "Epoch 17/50\n",
            "\u001b[1m80/80\u001b[0m \u001b[32m━━━━━━━━━━━━━━━━━━━━\u001b[0m\u001b[37m\u001b[0m \u001b[1m0s\u001b[0m 4ms/step - accuracy: 0.6504 - loss: 0.8211 - val_accuracy: 0.5813 - val_loss: 0.9000\n",
            "Epoch 18/50\n",
            "\u001b[1m80/80\u001b[0m \u001b[32m━━━━━━━━━━━━━━━━━━━━\u001b[0m\u001b[37m\u001b[0m \u001b[1m1s\u001b[0m 3ms/step - accuracy: 0.6828 - loss: 0.8068 - val_accuracy: 0.5719 - val_loss: 0.8999\n",
            "Epoch 19/50\n",
            "\u001b[1m80/80\u001b[0m \u001b[32m━━━━━━━━━━━━━━━━━━━━\u001b[0m\u001b[37m\u001b[0m \u001b[1m0s\u001b[0m 3ms/step - accuracy: 0.6630 - loss: 0.8114 - val_accuracy: 0.5875 - val_loss: 0.8945\n",
            "Epoch 20/50\n",
            "\u001b[1m80/80\u001b[0m \u001b[32m━━━━━━━━━━━━━━━━━━━━\u001b[0m\u001b[37m\u001b[0m \u001b[1m0s\u001b[0m 4ms/step - accuracy: 0.6744 - loss: 0.7992 - val_accuracy: 0.6000 - val_loss: 0.8984\n",
            "Epoch 21/50\n",
            "\u001b[1m80/80\u001b[0m \u001b[32m━━━━━━━━━━━━━━━━━━━━\u001b[0m\u001b[37m\u001b[0m \u001b[1m1s\u001b[0m 3ms/step - accuracy: 0.6695 - loss: 0.8162 - val_accuracy: 0.5781 - val_loss: 0.9059\n",
            "Epoch 22/50\n",
            "\u001b[1m80/80\u001b[0m \u001b[32m━━━━━━━━━━━━━━━━━━━━\u001b[0m\u001b[37m\u001b[0m \u001b[1m0s\u001b[0m 4ms/step - accuracy: 0.6843 - loss: 0.8075 - val_accuracy: 0.5906 - val_loss: 0.8994\n",
            "Epoch 23/50\n",
            "\u001b[1m80/80\u001b[0m \u001b[32m━━━━━━━━━━━━━━━━━━━━\u001b[0m\u001b[37m\u001b[0m \u001b[1m1s\u001b[0m 3ms/step - accuracy: 0.6773 - loss: 0.7929 - val_accuracy: 0.6156 - val_loss: 0.9098\n",
            "Epoch 24/50\n",
            "\u001b[1m80/80\u001b[0m \u001b[32m━━━━━━━━━━━━━━━━━━━━\u001b[0m\u001b[37m\u001b[0m \u001b[1m0s\u001b[0m 4ms/step - accuracy: 0.6621 - loss: 0.7803 - val_accuracy: 0.5969 - val_loss: 0.9004\n",
            "Epoch 25/50\n",
            "\u001b[1m80/80\u001b[0m \u001b[32m━━━━━━━━━━━━━━━━━━━━\u001b[0m\u001b[37m\u001b[0m \u001b[1m0s\u001b[0m 3ms/step - accuracy: 0.6776 - loss: 0.7900 - val_accuracy: 0.5844 - val_loss: 0.9150\n",
            "Epoch 26/50\n",
            "\u001b[1m80/80\u001b[0m \u001b[32m━━━━━━━━━━━━━━━━━━━━\u001b[0m\u001b[37m\u001b[0m \u001b[1m0s\u001b[0m 3ms/step - accuracy: 0.6664 - loss: 0.7734 - val_accuracy: 0.5844 - val_loss: 0.8957\n",
            "Epoch 27/50\n",
            "\u001b[1m80/80\u001b[0m \u001b[32m━━━━━━━━━━━━━━━━━━━━\u001b[0m\u001b[37m\u001b[0m \u001b[1m0s\u001b[0m 4ms/step - accuracy: 0.6734 - loss: 0.7585 - val_accuracy: 0.5750 - val_loss: 0.8955\n",
            "Epoch 28/50\n",
            "\u001b[1m80/80\u001b[0m \u001b[32m━━━━━━━━━━━━━━━━━━━━\u001b[0m\u001b[37m\u001b[0m \u001b[1m0s\u001b[0m 3ms/step - accuracy: 0.6976 - loss: 0.7427 - val_accuracy: 0.5906 - val_loss: 0.8906\n",
            "Epoch 29/50\n",
            "\u001b[1m80/80\u001b[0m \u001b[32m━━━━━━━━━━━━━━━━━━━━\u001b[0m\u001b[37m\u001b[0m \u001b[1m1s\u001b[0m 4ms/step - accuracy: 0.6940 - loss: 0.7595 - val_accuracy: 0.5938 - val_loss: 0.8902\n",
            "Epoch 30/50\n",
            "\u001b[1m80/80\u001b[0m \u001b[32m━━━━━━━━━━━━━━━━━━━━\u001b[0m\u001b[37m\u001b[0m \u001b[1m1s\u001b[0m 3ms/step - accuracy: 0.6875 - loss: 0.7340 - val_accuracy: 0.5906 - val_loss: 0.9007\n",
            "Epoch 31/50\n",
            "\u001b[1m80/80\u001b[0m \u001b[32m━━━━━━━━━━━━━━━━━━━━\u001b[0m\u001b[37m\u001b[0m \u001b[1m0s\u001b[0m 3ms/step - accuracy: 0.6764 - loss: 0.7578 - val_accuracy: 0.5938 - val_loss: 0.9012\n",
            "Epoch 32/50\n",
            "\u001b[1m80/80\u001b[0m \u001b[32m━━━━━━━━━━━━━━━━━━━━\u001b[0m\u001b[37m\u001b[0m \u001b[1m0s\u001b[0m 4ms/step - accuracy: 0.7051 - loss: 0.7339 - val_accuracy: 0.6062 - val_loss: 0.9063\n",
            "Epoch 33/50\n",
            "\u001b[1m80/80\u001b[0m \u001b[32m━━━━━━━━━━━━━━━━━━━━\u001b[0m\u001b[37m\u001b[0m \u001b[1m1s\u001b[0m 3ms/step - accuracy: 0.7018 - loss: 0.7235 - val_accuracy: 0.5875 - val_loss: 0.9154\n",
            "Epoch 34/50\n",
            "\u001b[1m80/80\u001b[0m \u001b[32m━━━━━━━━━━━━━━━━━━━━\u001b[0m\u001b[37m\u001b[0m \u001b[1m0s\u001b[0m 3ms/step - accuracy: 0.7265 - loss: 0.7034 - val_accuracy: 0.6062 - val_loss: 0.8968\n",
            "Epoch 35/50\n",
            "\u001b[1m80/80\u001b[0m \u001b[32m━━━━━━━━━━━━━━━━━━━━\u001b[0m\u001b[37m\u001b[0m \u001b[1m1s\u001b[0m 3ms/step - accuracy: 0.7071 - loss: 0.7047 - val_accuracy: 0.5875 - val_loss: 0.8976\n",
            "Epoch 36/50\n",
            "\u001b[1m80/80\u001b[0m \u001b[32m━━━━━━━━━━━━━━━━━━━━\u001b[0m\u001b[37m\u001b[0m \u001b[1m0s\u001b[0m 4ms/step - accuracy: 0.7221 - loss: 0.6819 - val_accuracy: 0.6219 - val_loss: 0.8923\n",
            "Epoch 37/50\n",
            "\u001b[1m80/80\u001b[0m \u001b[32m━━━━━━━━━━━━━━━━━━━━\u001b[0m\u001b[37m\u001b[0m \u001b[1m1s\u001b[0m 6ms/step - accuracy: 0.7072 - loss: 0.6865 - val_accuracy: 0.5875 - val_loss: 0.8889\n",
            "Epoch 38/50\n",
            "\u001b[1m80/80\u001b[0m \u001b[32m━━━━━━━━━━━━━━━━━━━━\u001b[0m\u001b[37m\u001b[0m \u001b[1m1s\u001b[0m 8ms/step - accuracy: 0.7144 - loss: 0.6980 - val_accuracy: 0.6000 - val_loss: 0.8961\n",
            "Epoch 39/50\n",
            "\u001b[1m80/80\u001b[0m \u001b[32m━━━━━━━━━━━━━━━━━━━━\u001b[0m\u001b[37m\u001b[0m \u001b[1m1s\u001b[0m 6ms/step - accuracy: 0.7229 - loss: 0.6930 - val_accuracy: 0.5969 - val_loss: 0.8958\n",
            "Epoch 40/50\n",
            "\u001b[1m80/80\u001b[0m \u001b[32m━━━━━━━━━━━━━━━━━━━━\u001b[0m\u001b[37m\u001b[0m \u001b[1m0s\u001b[0m 3ms/step - accuracy: 0.7202 - loss: 0.6827 - val_accuracy: 0.6187 - val_loss: 0.9035\n",
            "Epoch 41/50\n",
            "\u001b[1m80/80\u001b[0m \u001b[32m━━━━━━━━━━━━━━━━━━━━\u001b[0m\u001b[37m\u001b[0m \u001b[1m0s\u001b[0m 4ms/step - accuracy: 0.7238 - loss: 0.6839 - val_accuracy: 0.5906 - val_loss: 0.9132\n",
            "Epoch 42/50\n",
            "\u001b[1m80/80\u001b[0m \u001b[32m━━━━━━━━━━━━━━━━━━━━\u001b[0m\u001b[37m\u001b[0m \u001b[1m1s\u001b[0m 4ms/step - accuracy: 0.7376 - loss: 0.6497 - val_accuracy: 0.6219 - val_loss: 0.9078\n",
            "Epoch 43/50\n",
            "\u001b[1m80/80\u001b[0m \u001b[32m━━━━━━━━━━━━━━━━━━━━\u001b[0m\u001b[37m\u001b[0m \u001b[1m0s\u001b[0m 4ms/step - accuracy: 0.7345 - loss: 0.6606 - val_accuracy: 0.6187 - val_loss: 0.9034\n",
            "Epoch 44/50\n",
            "\u001b[1m80/80\u001b[0m \u001b[32m━━━━━━━━━━━━━━━━━━━━\u001b[0m\u001b[37m\u001b[0m \u001b[1m0s\u001b[0m 3ms/step - accuracy: 0.7373 - loss: 0.6510 - val_accuracy: 0.6125 - val_loss: 0.9195\n",
            "Epoch 45/50\n",
            "\u001b[1m80/80\u001b[0m \u001b[32m━━━━━━━━━━━━━━━━━━━━\u001b[0m\u001b[37m\u001b[0m \u001b[1m0s\u001b[0m 4ms/step - accuracy: 0.7260 - loss: 0.6598 - val_accuracy: 0.5969 - val_loss: 0.9190\n",
            "Epoch 46/50\n",
            "\u001b[1m80/80\u001b[0m \u001b[32m━━━━━━━━━━━━━━━━━━━━\u001b[0m\u001b[37m\u001b[0m \u001b[1m1s\u001b[0m 3ms/step - accuracy: 0.7156 - loss: 0.6867 - val_accuracy: 0.6000 - val_loss: 0.9078\n",
            "Epoch 47/50\n",
            "\u001b[1m80/80\u001b[0m \u001b[32m━━━━━━━━━━━━━━━━━━━━\u001b[0m\u001b[37m\u001b[0m \u001b[1m1s\u001b[0m 3ms/step - accuracy: 0.7386 - loss: 0.6427 - val_accuracy: 0.6125 - val_loss: 0.9196\n",
            "Epoch 48/50\n",
            "\u001b[1m80/80\u001b[0m \u001b[32m━━━━━━━━━━━━━━━━━━━━\u001b[0m\u001b[37m\u001b[0m \u001b[1m0s\u001b[0m 4ms/step - accuracy: 0.7445 - loss: 0.6248 - val_accuracy: 0.5969 - val_loss: 0.9158\n",
            "Epoch 49/50\n",
            "\u001b[1m80/80\u001b[0m \u001b[32m━━━━━━━━━━━━━━━━━━━━\u001b[0m\u001b[37m\u001b[0m \u001b[1m0s\u001b[0m 4ms/step - accuracy: 0.7730 - loss: 0.6040 - val_accuracy: 0.6125 - val_loss: 0.9417\n",
            "Epoch 50/50\n",
            "\u001b[1m80/80\u001b[0m \u001b[32m━━━━━━━━━━━━━━━━━━━━\u001b[0m\u001b[37m\u001b[0m \u001b[1m1s\u001b[0m 5ms/step - accuracy: 0.7776 - loss: 0.5854 - val_accuracy: 0.6094 - val_loss: 0.9177\n",
            "10/10 - 0s - 22ms/step - accuracy: 0.6094 - loss: 0.9177\n",
            "Test Accuracy: 0.6094\n",
            "\u001b[1m10/10\u001b[0m \u001b[32m━━━━━━━━━━━━━━━━━━━━\u001b[0m\u001b[37m\u001b[0m \u001b[1m0s\u001b[0m 3ms/step \n",
            "\n",
            "Ejemplos de predicciones:\n",
            "Real: 3, Predicho: 3\n",
            "Real: 2, Predicho: 2\n",
            "Real: 3, Predicho: 3\n",
            "Real: 2, Predicho: 2\n",
            "Real: 3, Predicho: 3\n",
            "Real: 2, Predicho: 2\n",
            "Real: 2, Predicho: 2\n",
            "Real: 2, Predicho: 2\n",
            "Real: 2, Predicho: 3\n",
            "Real: 3, Predicho: 3\n",
            "Real: 4, Predicho: 4\n",
            "Real: 0, Predicho: 2\n",
            "Real: 2, Predicho: 3\n",
            "Real: 2, Predicho: 2\n",
            "Real: 3, Predicho: 3\n"
          ]
        }
      ]
    },
    {
      "cell_type": "markdown",
      "source": [
        "# **<> Conclusiones**"
      ],
      "metadata": {
        "id": "EPTOTZyt-5qT"
      }
    },
    {
      "cell_type": "markdown",
      "source": [
        "Como se puede observar, el modelo es capaz de clasificar la calidad del vino tinto según sus características con una precisión muy buena, acertando en las 15 predicciones."
      ],
      "metadata": {
        "id": "5AqJUgSa-8AT"
      }
    }
  ]
}
{
  "nbformat": 4,
  "nbformat_minor": 0,
  "metadata": {
    "colab": {
      "provenance": [],
      "authorship_tag": "ABX9TyML+aKKgqYEJ0EOBf+pzUMR",
      "include_colab_link": true
    },
    "kernelspec": {
      "name": "python3",
      "display_name": "Python 3"
    },
    "language_info": {
      "name": "python"
    }
  },
  "cells": [
    {
      "cell_type": "markdown",
      "metadata": {
        "id": "view-in-github",
        "colab_type": "text"
      },
      "source": [
        "<a href=\"https://colab.research.google.com/github/HeberPareja/IA-MiniRobots_2024-2/blob/master/EjercicioN5_1.ipynb\" target=\"_parent\"><img src=\"https://colab.research.google.com/assets/colab-badge.svg\" alt=\"Open In Colab\"/></a>"
      ]
    },
    {
      "cell_type": "markdown",
      "source": [
        "*   Ejercicio N° 5.1\n",
        "*   Universidad Nacional de Colombia\n",
        "*   Inteligencia Artificial y Mini-Robots 2024-2\n",
        "*   Heber Alexander Pareja Romero\n",
        "*   haparejar@unal.edu.co"
      ],
      "metadata": {
        "id": "zUHjV-d0rMMT"
      }
    },
    {
      "cell_type": "markdown",
      "source": [
        "# **<> Introducción**"
      ],
      "metadata": {
        "id": "TX4Z27Vkwd-x"
      }
    },
    {
      "cell_type": "markdown",
      "source": [
        "Este código implementa un modelo de red neuronal para la clasificación de datos de cáncer basados en el conjunto de datos de ejemplo \"cancer1.xml\", proveniente del software MEPx. El archivo contiene información estructurada en filas con atributos numéricos, donde la última columna representa la clasificación binaria de la enfermedad. Para este propósito, se emplea un perceptrón multicapa (MLP, Multi-Layer Perceptron) con arquitectura feedforward, en la cual la información fluye en una única dirección, desde la capa de entrada hasta la capa de salida, sin ciclos ni retroalimentación.\n",
        "\n",
        "*   Capa de entrada con tantas neuronas como atributos tenga el conjunto de datos (en este caso, 9 características).\n",
        "*   Primera capa oculta con 16 neuronas y activación ReLU.\n",
        "*   Segunda capa oculta con 8 neuronas y activación ReLU.\n",
        "*   Capa de salida con 1 neurona y activación sigmoide, encargada de producir una salida entre 0 y 1 para la clasificación binaria.\n"
      ],
      "metadata": {
        "id": "l3S3G6ArxuT3"
      }
    },
    {
      "cell_type": "markdown",
      "source": [
        "# **<> Desarrollo**"
      ],
      "metadata": {
        "id": "IffckwIBxeVZ"
      }
    },
    {
      "cell_type": "markdown",
      "source": [
        "Se importan las librerías necesarias"
      ],
      "metadata": {
        "id": "QsO7zCy3t_vV"
      }
    },
    {
      "cell_type": "code",
      "source": [
        "import pandas as pd  # Para manejar estructuras de datos\n",
        "import xml.etree.ElementTree as ET  # Para manejar archivos XML\n",
        "import numpy as np  # Para manejar operaciones numéricas\n",
        "import tensorflow as tf  # Para construir la red neuronal\n",
        "from sklearn.model_selection import train_test_split  # Para dividir datos en entrenamiento y prueba\n",
        "from sklearn.preprocessing import StandardScaler  # Para normalizar los datos\n",
        "import matplotlib.pyplot as plt  # Para generar gráficos y visualizar los resultados del entrenamiento"
      ],
      "metadata": {
        "id": "6Hnh9Qr1o9Cz"
      },
      "execution_count": null,
      "outputs": []
    },
    {
      "cell_type": "markdown",
      "source": [
        "Se extraen los valores de las filas del archivo XML, asegurando que cada una contenga diez elementos numéricos. Luego, se separan los datos en variables de entrada y salida, se dividen en conjuntos de entrenamiento y prueba, y se normalizan las características. Finalmente, se construye un modelo de red neuronal con dos capas ocultas usando la función de activación ReLU y una capa de salida con activación sigmoide para clasificación binaria. El modelo se entrena utilizando el optimizador Adam y la pérdida de entropía cruzada binaria."
      ],
      "metadata": {
        "id": "uEjGm33LvH09"
      }
    },
    {
      "cell_type": "code",
      "execution_count": null,
      "metadata": {
        "id": "1H5ySbdLkVHe",
        "colab": {
          "base_uri": "https://localhost:8080/"
        },
        "outputId": "18baa994-2c29-4638-9701-745d9026e403"
      },
      "outputs": [
        {
          "output_type": "stream",
          "name": "stdout",
          "text": [
            "Total de filas cargadas: 699\n",
            "     0    1    2    3    4    5    6    7    8    9\n",
            "0  0.2  0.1  0.1  0.1  0.2  0.1  0.2  0.1  0.1  1.0\n",
            "1  0.2  0.1  0.1  0.1  0.2  0.1  0.3  0.1  0.1  1.0\n",
            "2  0.5  0.1  0.1  0.1  0.2  0.1  0.2  0.1  0.1  1.0\n",
            "3  0.5  0.4  0.6  0.8  0.4  0.1  0.8  1.0  0.1  0.0\n",
            "4  0.5  0.3  0.3  0.1  0.2  0.1  0.2  0.1  0.1  1.0\n",
            "Forma del DataFrame: (699, 10)\n",
            "Epoch 1/30\n"
          ]
        },
        {
          "output_type": "stream",
          "name": "stderr",
          "text": [
            "/usr/local/lib/python3.11/dist-packages/keras/src/layers/core/dense.py:87: UserWarning: Do not pass an `input_shape`/`input_dim` argument to a layer. When using Sequential models, prefer using an `Input(shape)` object as the first layer in the model instead.\n",
            "  super().__init__(activity_regularizer=activity_regularizer, **kwargs)\n"
          ]
        },
        {
          "output_type": "stream",
          "name": "stdout",
          "text": [
            "\u001b[1m70/70\u001b[0m \u001b[32m━━━━━━━━━━━━━━━━━━━━\u001b[0m\u001b[37m\u001b[0m \u001b[1m2s\u001b[0m 8ms/step - accuracy: 0.6905 - loss: 0.6551 - val_accuracy: 0.7786 - val_loss: 0.4574\n",
            "Epoch 2/30\n",
            "\u001b[1m70/70\u001b[0m \u001b[32m━━━━━━━━━━━━━━━━━━━━\u001b[0m\u001b[37m\u001b[0m \u001b[1m1s\u001b[0m 6ms/step - accuracy: 0.8901 - loss: 0.3553 - val_accuracy: 0.9571 - val_loss: 0.2279\n",
            "Epoch 3/30\n",
            "\u001b[1m70/70\u001b[0m \u001b[32m━━━━━━━━━━━━━━━━━━━━\u001b[0m\u001b[37m\u001b[0m \u001b[1m1s\u001b[0m 6ms/step - accuracy: 0.9713 - loss: 0.1830 - val_accuracy: 0.9714 - val_loss: 0.1341\n",
            "Epoch 4/30\n",
            "\u001b[1m70/70\u001b[0m \u001b[32m━━━━━━━━━━━━━━━━━━━━\u001b[0m\u001b[37m\u001b[0m \u001b[1m0s\u001b[0m 4ms/step - accuracy: 0.9770 - loss: 0.0872 - val_accuracy: 0.9643 - val_loss: 0.1175\n",
            "Epoch 5/30\n",
            "\u001b[1m70/70\u001b[0m \u001b[32m━━━━━━━━━━━━━━━━━━━━\u001b[0m\u001b[37m\u001b[0m \u001b[1m0s\u001b[0m 4ms/step - accuracy: 0.9789 - loss: 0.0760 - val_accuracy: 0.9643 - val_loss: 0.1158\n",
            "Epoch 6/30\n",
            "\u001b[1m70/70\u001b[0m \u001b[32m━━━━━━━━━━━━━━━━━━━━\u001b[0m\u001b[37m\u001b[0m \u001b[1m0s\u001b[0m 4ms/step - accuracy: 0.9734 - loss: 0.0800 - val_accuracy: 0.9643 - val_loss: 0.1163\n",
            "Epoch 7/30\n",
            "\u001b[1m70/70\u001b[0m \u001b[32m━━━━━━━━━━━━━━━━━━━━\u001b[0m\u001b[37m\u001b[0m \u001b[1m0s\u001b[0m 4ms/step - accuracy: 0.9733 - loss: 0.0733 - val_accuracy: 0.9643 - val_loss: 0.1172\n",
            "Epoch 8/30\n",
            "\u001b[1m70/70\u001b[0m \u001b[32m━━━━━━━━━━━━━━━━━━━━\u001b[0m\u001b[37m\u001b[0m \u001b[1m0s\u001b[0m 3ms/step - accuracy: 0.9884 - loss: 0.0469 - val_accuracy: 0.9643 - val_loss: 0.1184\n",
            "Epoch 9/30\n",
            "\u001b[1m70/70\u001b[0m \u001b[32m━━━━━━━━━━━━━━━━━━━━\u001b[0m\u001b[37m\u001b[0m \u001b[1m1s\u001b[0m 7ms/step - accuracy: 0.9855 - loss: 0.0461 - val_accuracy: 0.9643 - val_loss: 0.1184\n",
            "Epoch 10/30\n",
            "\u001b[1m70/70\u001b[0m \u001b[32m━━━━━━━━━━━━━━━━━━━━\u001b[0m\u001b[37m\u001b[0m \u001b[1m0s\u001b[0m 4ms/step - accuracy: 0.9700 - loss: 0.0882 - val_accuracy: 0.9643 - val_loss: 0.1200\n",
            "Epoch 11/30\n",
            "\u001b[1m70/70\u001b[0m \u001b[32m━━━━━━━━━━━━━━━━━━━━\u001b[0m\u001b[37m\u001b[0m \u001b[1m1s\u001b[0m 4ms/step - accuracy: 0.9840 - loss: 0.0526 - val_accuracy: 0.9571 - val_loss: 0.1208\n",
            "Epoch 12/30\n",
            "\u001b[1m70/70\u001b[0m \u001b[32m━━━━━━━━━━━━━━━━━━━━\u001b[0m\u001b[37m\u001b[0m \u001b[1m0s\u001b[0m 4ms/step - accuracy: 0.9728 - loss: 0.0695 - val_accuracy: 0.9571 - val_loss: 0.1211\n",
            "Epoch 13/30\n",
            "\u001b[1m70/70\u001b[0m \u001b[32m━━━━━━━━━━━━━━━━━━━━\u001b[0m\u001b[37m\u001b[0m \u001b[1m0s\u001b[0m 4ms/step - accuracy: 0.9741 - loss: 0.0630 - val_accuracy: 0.9500 - val_loss: 0.1221\n",
            "Epoch 14/30\n",
            "\u001b[1m70/70\u001b[0m \u001b[32m━━━━━━━━━━━━━━━━━━━━\u001b[0m\u001b[37m\u001b[0m \u001b[1m0s\u001b[0m 3ms/step - accuracy: 0.9851 - loss: 0.0427 - val_accuracy: 0.9571 - val_loss: 0.1227\n",
            "Epoch 15/30\n",
            "\u001b[1m70/70\u001b[0m \u001b[32m━━━━━━━━━━━━━━━━━━━━\u001b[0m\u001b[37m\u001b[0m \u001b[1m0s\u001b[0m 3ms/step - accuracy: 0.9726 - loss: 0.0688 - val_accuracy: 0.9500 - val_loss: 0.1239\n",
            "Epoch 16/30\n",
            "\u001b[1m70/70\u001b[0m \u001b[32m━━━━━━━━━━━━━━━━━━━━\u001b[0m\u001b[37m\u001b[0m \u001b[1m0s\u001b[0m 4ms/step - accuracy: 0.9778 - loss: 0.0612 - val_accuracy: 0.9500 - val_loss: 0.1239\n",
            "Epoch 17/30\n",
            "\u001b[1m70/70\u001b[0m \u001b[32m━━━━━━━━━━━━━━━━━━━━\u001b[0m\u001b[37m\u001b[0m \u001b[1m0s\u001b[0m 4ms/step - accuracy: 0.9847 - loss: 0.0493 - val_accuracy: 0.9571 - val_loss: 0.1247\n",
            "Epoch 18/30\n",
            "\u001b[1m70/70\u001b[0m \u001b[32m━━━━━━━━━━━━━━━━━━━━\u001b[0m\u001b[37m\u001b[0m \u001b[1m1s\u001b[0m 4ms/step - accuracy: 0.9837 - loss: 0.0404 - val_accuracy: 0.9500 - val_loss: 0.1258\n",
            "Epoch 19/30\n",
            "\u001b[1m70/70\u001b[0m \u001b[32m━━━━━━━━━━━━━━━━━━━━\u001b[0m\u001b[37m\u001b[0m \u001b[1m1s\u001b[0m 4ms/step - accuracy: 0.9900 - loss: 0.0340 - val_accuracy: 0.9500 - val_loss: 0.1264\n",
            "Epoch 20/30\n",
            "\u001b[1m70/70\u001b[0m \u001b[32m━━━━━━━━━━━━━━━━━━━━\u001b[0m\u001b[37m\u001b[0m \u001b[1m0s\u001b[0m 4ms/step - accuracy: 0.9848 - loss: 0.0520 - val_accuracy: 0.9500 - val_loss: 0.1263\n",
            "Epoch 21/30\n",
            "\u001b[1m70/70\u001b[0m \u001b[32m━━━━━━━━━━━━━━━━━━━━\u001b[0m\u001b[37m\u001b[0m \u001b[1m0s\u001b[0m 4ms/step - accuracy: 0.9877 - loss: 0.0494 - val_accuracy: 0.9500 - val_loss: 0.1273\n",
            "Epoch 22/30\n",
            "\u001b[1m70/70\u001b[0m \u001b[32m━━━━━━━━━━━━━━━━━━━━\u001b[0m\u001b[37m\u001b[0m \u001b[1m1s\u001b[0m 3ms/step - accuracy: 0.9721 - loss: 0.0657 - val_accuracy: 0.9500 - val_loss: 0.1279\n",
            "Epoch 23/30\n",
            "\u001b[1m70/70\u001b[0m \u001b[32m━━━━━━━━━━━━━━━━━━━━\u001b[0m\u001b[37m\u001b[0m \u001b[1m0s\u001b[0m 4ms/step - accuracy: 0.9803 - loss: 0.0561 - val_accuracy: 0.9500 - val_loss: 0.1291\n",
            "Epoch 24/30\n",
            "\u001b[1m70/70\u001b[0m \u001b[32m━━━━━━━━━━━━━━━━━━━━\u001b[0m\u001b[37m\u001b[0m \u001b[1m0s\u001b[0m 4ms/step - accuracy: 0.9788 - loss: 0.0680 - val_accuracy: 0.9500 - val_loss: 0.1301\n",
            "Epoch 25/30\n",
            "\u001b[1m70/70\u001b[0m \u001b[32m━━━━━━━━━━━━━━━━━━━━\u001b[0m\u001b[37m\u001b[0m \u001b[1m0s\u001b[0m 4ms/step - accuracy: 0.9779 - loss: 0.0649 - val_accuracy: 0.9500 - val_loss: 0.1311\n",
            "Epoch 26/30\n",
            "\u001b[1m70/70\u001b[0m \u001b[32m━━━━━━━━━━━━━━━━━━━━\u001b[0m\u001b[37m\u001b[0m \u001b[1m0s\u001b[0m 4ms/step - accuracy: 0.9834 - loss: 0.0487 - val_accuracy: 0.9500 - val_loss: 0.1321\n",
            "Epoch 27/30\n",
            "\u001b[1m70/70\u001b[0m \u001b[32m━━━━━━━━━━━━━━━━━━━━\u001b[0m\u001b[37m\u001b[0m \u001b[1m1s\u001b[0m 4ms/step - accuracy: 0.9851 - loss: 0.0440 - val_accuracy: 0.9500 - val_loss: 0.1325\n",
            "Epoch 28/30\n",
            "\u001b[1m70/70\u001b[0m \u001b[32m━━━━━━━━━━━━━━━━━━━━\u001b[0m\u001b[37m\u001b[0m \u001b[1m0s\u001b[0m 4ms/step - accuracy: 0.9836 - loss: 0.0476 - val_accuracy: 0.9500 - val_loss: 0.1340\n",
            "Epoch 29/30\n",
            "\u001b[1m70/70\u001b[0m \u001b[32m━━━━━━━━━━━━━━━━━━━━\u001b[0m\u001b[37m\u001b[0m \u001b[1m0s\u001b[0m 4ms/step - accuracy: 0.9844 - loss: 0.0565 - val_accuracy: 0.9571 - val_loss: 0.1354\n",
            "Epoch 30/30\n",
            "\u001b[1m70/70\u001b[0m \u001b[32m━━━━━━━━━━━━━━━━━━━━\u001b[0m\u001b[37m\u001b[0m \u001b[1m1s\u001b[0m 6ms/step - accuracy: 0.9813 - loss: 0.0588 - val_accuracy: 0.9571 - val_loss: 0.1358\n"
          ]
        }
      ],
      "source": [
        "file_path = \"/content/cancer1.xml\" # Ruta del archivo XML (Debe estar subido en Google Colab)\n",
        "\n",
        "# Función para leer el XML y convertirlo en un DataFrame\n",
        "def parse_xml_to_dataframe(file_path):\n",
        "    tree = ET.parse(file_path)  # Analizar el archivo XML\n",
        "    root = tree.getroot()  # Obtener la raíz del XML\n",
        "    data = []  # Lista para almacenar los datos extraídos\n",
        "\n",
        "    for row in root.findall(\".//row\"):  # Buscar todas las filas dentro de cualquier nodo\n",
        "        values = row.text.strip().split()  # Obtener los valores de la fila y separarlos\n",
        "        if len(values) == 10:  # Asegurar solo filas completas\n",
        "            data.append([float(v) for v in values])  # Convertir los valores a tipo float y agregarlos a la lista\n",
        "\n",
        "    df = pd.DataFrame(data)  # Crear un DataFrame con los datos\n",
        "    print(f\"Total de filas cargadas: {df.shape[0]}\")  # Imprimir el número total de filas cargadas\n",
        "    return df  # Devolver el DataFrame\n",
        "\n",
        "# Cargar datos\n",
        "df = parse_xml_to_dataframe(file_path)  # Llamar a la función para leer el XML\n",
        "\n",
        "# Verificar estructura del DataFrame\n",
        "print(df.head())  # Imprimir las primeras 5 filas del DataFrame\n",
        "print(f\"Forma del DataFrame: {df.shape}\")  # Imprimir la forma del DataFrame (filas, columnas)\n",
        "\n",
        "# Asegurar que hay al menos 10 columnas\n",
        "if df.shape[1] < 10:\n",
        "    raise ValueError(\"El archivo XML no tiene suficientes columnas. Verifica la estructura del archivo.\")  # Lanzar un error si hay menos de 10 columnas\n",
        "\n",
        "# Separar variables de entrada y target\n",
        "X = df.iloc[:, :-1].values  # Seleccionar todas las columnas excepto la última como variables de entrada\n",
        "y = df.iloc[:, -1].values  # Seleccionar la última columna como variable objetivo (target)\n",
        "\n",
        "# Dividir datos en entrenamiento y prueba\n",
        "X_train, X_test, y_train, y_test = train_test_split(X, y, test_size=0.2, random_state=42)  # 80% entrenamiento, 20% prueba\n",
        "\n",
        "# Normalización de los datos\n",
        "scaler = StandardScaler()  # Crear un objeto para normalizar los datos\n",
        "X_train = scaler.fit_transform(X_train)  # Ajustar y transformar los datos de entrenamiento\n",
        "X_test = scaler.transform(X_test)  # Transformar los datos de prueba con la misma escala\n",
        "\n",
        "# Construcción del modelo de red neuronal\n",
        "model = tf.keras.Sequential([\n",
        "    tf.keras.layers.Dense(16, activation='relu', input_shape=(X_train.shape[1],)),  # Capa oculta con 16 neuronas y activación ReLU\n",
        "    tf.keras.layers.Dense(8, activation='relu'),  # Segunda capa oculta con 8 neuronas y activación ReLU\n",
        "    tf.keras.layers.Dense(1, activation='sigmoid')  # Capa de salida con una neurona y activación sigmoide para clasificación binaria\n",
        "])\n",
        "\n",
        "model.compile(optimizer='adam', loss='binary_crossentropy', metrics=['accuracy'])  # Configurar el optimizador y la función de pérdida\n",
        "\n",
        "history = model.fit(X_train, y_train, epochs=30, batch_size=8, validation_data=(X_test, y_test))  # Entrenar la red neuronal"
      ]
    },
    {
      "cell_type": "markdown",
      "source": [
        "Se crea la función plot_training_history(history) para generar gráficos que muestran la evolución de la pérdida y la precisión durante el entrenamiento de un modelo de red neuronal. Se extraen los valores de pérdida y precisión tanto del conjunto de entrenamiento como de validación a partir del historial proporcionado por TensorFlow. Luego, se crean dos gráficos, uno para la pérdida y otro para la precisión, con las épocas en el eje X y los valores correspondientes en el eje Y. Esto permite visualizar el rendimiento del modelo y detectar posibles problemas como sobreajuste o bajo rendimiento."
      ],
      "metadata": {
        "id": "wMYlyfKDvdlx"
      }
    },
    {
      "cell_type": "code",
      "source": [
        "# Función para graficar la precisión y la pérdida durante el entrenamiento\n",
        "def plot_training_history(history):\n",
        "    # Extraer los valores de la historia del entrenamiento\n",
        "    loss = history.history['loss']\n",
        "    val_loss = history.history['val_loss']\n",
        "    accuracy = history.history['accuracy']\n",
        "    val_accuracy = history.history['val_accuracy']\n",
        "\n",
        "    epochs = range(1, len(loss) + 1)\n",
        "\n",
        "    # Gráfico de pérdida\n",
        "    plt.figure(figsize=(12, 5))\n",
        "\n",
        "    plt.subplot(1, 2, 1)\n",
        "    plt.plot(epochs, loss, 'b', label='Pérdida Entrenamiento')\n",
        "    plt.plot(epochs, val_loss, 'r', label='Pérdida Validación')\n",
        "    plt.xlabel('Épocas')\n",
        "    plt.ylabel('Pérdida')\n",
        "    plt.title('Pérdida durante el entrenamiento')\n",
        "    plt.legend()\n",
        "\n",
        "    # Gráfico de precisión\n",
        "    plt.subplot(1, 2, 2)\n",
        "    plt.plot(epochs, accuracy, 'b', label='Precisión Entrenamiento')\n",
        "    plt.plot(epochs, val_accuracy, 'r', label='Precisión Validación')\n",
        "    plt.xlabel('Épocas')\n",
        "    plt.ylabel('Precisión')\n",
        "    plt.title('Precisión durante el entrenamiento')\n",
        "    plt.legend()\n",
        "\n",
        "    plt.show()\n",
        "\n",
        "# Llamar a la función para graficar los resultados\n",
        "plot_training_history(history)"
      ],
      "metadata": {
        "colab": {
          "base_uri": "https://localhost:8080/",
          "height": 489
        },
        "id": "SoVBehhfvef4",
        "outputId": "9817b41e-f478-415b-da39-4f96bee59e97"
      },
      "execution_count": null,
      "outputs": [
        {
          "output_type": "display_data",
          "data": {
            "text/plain": [
              "<Figure size 1200x500 with 2 Axes>"
            ],
            "image/png": "[encoded data removed]"
          },
          "metadata": {}
        }
      ]
    },
    {
      "cell_type": "markdown",
      "source": [
        "## **<> Test**"
      ],
      "metadata": {
        "id": "zbSuupaju-BO"
      }
    },
    {
      "cell_type": "markdown",
      "source": [
        "Se genera un bucle infinito en el que se crean vectores de prueba aleatorios con valores entre 0.0 y 1.0, asegurando que tengan un solo decimal. Estos vectores se normalizan utilizando el mismo escalador que se aplicó a los datos de entrenamiento antes de pasarlos al modelo para obtener predicciones. Luego, se imprimen los vectores de prueba junto con sus predicciones para evaluar el comportamiento del modelo. Finalmente, el usuario tiene la opción de ingresar un vector de características, repetir el proceso o salir del bucle."
      ],
      "metadata": {
        "id": "-W4RGCREyKf9"
      }
    },
    {
      "cell_type": "code",
      "source": [
        "import numpy as np\n",
        "\n",
        "while True:\n",
        "    # Generar 10 vectores aleatorios de prueba\n",
        "    random_test_vectors = np.random.randint(0, 11, size=(10, X_train.shape[1])) / 10\n",
        "\n",
        "    # Aplicar la misma normalización usada en los datos de entrenamiento\n",
        "    random_scaled_test_vectors = scaler.transform(random_test_vectors)\n",
        "\n",
        "    # Obtener predicciones del modelo para los vectores de prueba\n",
        "    predictions = model.predict(random_scaled_test_vectors)\n",
        "    binary_predictions = (predictions > 0.5).astype(int)  # Convertir a 0 o 1 según el umbral de 0.5\n",
        "\n",
        "    # Imprimir los vectores de prueba y sus predicciones\n",
        "    print(\"Resultados de la prueba:\")\n",
        "    for i, (vector, prediction) in enumerate(zip(random_test_vectors, binary_predictions)):\n",
        "        print(f\"Persona {i+1}: Características {np.round(vector, 1)} -> {'Positivo' if prediction[0] == 1 else 'Negativo'}\")\n",
        "\n",
        "    while True:\n",
        "        choice = input(\"\\n¿Desea ingresar un vector de características manualmente? (y/n): \").strip().lower()\n",
        "\n",
        "        if choice == 'y':\n",
        "            try:\n",
        "                user_input = input(\"Ingrese 9 números separados por espacio: \")\n",
        "                user_vector = np.array([float(num) for num in user_input.split()])\n",
        "\n",
        "                if len(user_vector) != 9:\n",
        "                    raise ValueError(\"Debe ingresar exactamente 9 números.\")\n",
        "\n",
        "                # Redimensionar para cumplir con la entrada esperada por el modelo\n",
        "                user_vector = user_vector.reshape(1, -1)\n",
        "\n",
        "                # Aplicar la normalización\n",
        "                user_scaled_vector = scaler.transform(user_vector)\n",
        "\n",
        "                # Obtener la predicción del modelo\n",
        "                user_prediction = model.predict(user_scaled_vector)\n",
        "                user_binary_prediction = (user_prediction > 0.5).astype(int)\n",
        "\n",
        "                # Mostrar el resultado\n",
        "                print(f\"Diagnóstico: {'Positivo' if user_binary_prediction[0][0] == 1 else 'Negativo'}\\n\")\n",
        "\n",
        "            except ValueError as e:\n",
        "                print(f\"Error: {e}. Intente de nuevo.\")\n",
        "\n",
        "        elif choice == 'n':\n",
        "            break  # Salir del bucle interno y volver a preguntar si desea realizar otra prueba\n",
        "\n",
        "    retry = input(\"¿Desea realizar otra prueba con nuevos vectores aleatorios? (y/n): \").strip().lower()\n",
        "    if retry != 'y':\n",
        "        break\n"
      ],
      "metadata": {
        "colab": {
          "base_uri": "https://localhost:8080/"
        },
        "id": "y9041qINu5jK",
        "outputId": "02ad1d5f-7119-445b-adb8-01556d46a6bc"
      },
      "execution_count": null,
      "outputs": [
        {
          "name": "stdout",
          "output_type": "stream",
          "text": [
            "\u001b[1m1/1\u001b[0m \u001b[32m━━━━━━━━━━━━━━━━━━━━\u001b[0m\u001b[37m\u001b[0m \u001b[1m0s\u001b[0m 116ms/step\n",
            "Resultados de la prueba:\n",
            "Persona 1: Características [0.2 0.8 0.6 0.7 0.  0.1 0.2 0.  0.3] -> Negativo\n",
            "Persona 2: Características [0.2 0.7 0.  0.1 0.6 0.8 0.8 0.  0.6] -> Negativo\n",
            "Persona 3: Características [0.8 0.8 0.8 0.  0.1 0.9 0.2 0.9 1. ] -> Negativo\n",
            "Persona 4: Características [0.4 0.4 0.1 0.4 0.1 0.5 0.7 0.2 0.5] -> Negativo\n",
            "Persona 5: Características [0.9 0.3 0.3 0.2 0.1 1.  0.3 0.  0. ] -> Negativo\n",
            "Persona 6: Características [0.2 0.1 0.6 0.6 0.6 0.5 1.  0.8 0.4] -> Negativo\n",
            "Persona 7: Características [0.  0.  0.3 0.  0.7 0.5 0.1 0.7 0.3] -> Positivo\n",
            "Persona 8: Características [1.  0.7 0.7 0.9 0.  1.  0.6 0.9 0.1] -> Negativo\n",
            "Persona 9: Características [0.3 0.8 0.9 0.7 0.4 0.9 0.5 0.6 1. ] -> Negativo\n",
            "Persona 10: Características [1.  0.9 0.9 0.3 0.4 0.6 1.  0.6 1. ] -> Negativo\n",
            "\n",
            "¿Desea ingresar un vector de características manualmente? (y/n): n\n",
            "¿Desea realizar otra prueba con nuevos vectores aleatorios? (y/n): y\n",
            "\u001b[1m1/1\u001b[0m \u001b[32m━━━━━━━━━━━━━━━━━━━━\u001b[0m\u001b[37m\u001b[0m \u001b[1m0s\u001b[0m 63ms/step\n",
            "Resultados de la prueba:\n",
            "Persona 1: Características [0.6 0.5 0.2 0.5 0.9 0.3 0.7 0.4 0.7] -> Negativo\n",
            "Persona 2: Características [0.8 0.9 0.4 0.8 1.  0.8 0.7 0.6 0.5] -> Negativo\n",
            "Persona 3: Características [0.9 0.1 0.1 0.4 0.1 0.6 0.2 0.3 0.9] -> Negativo\n",
            "Persona 4: Características [0.3 0.3 0.6 0.4 0.3 0.4 0.4 0.9 0.9] -> Negativo\n",
            "Persona 5: Características [0.5 0.6 0.2 0.1 0.2 0.8 0.6 0.9 0.9] -> Negativo\n",
            "Persona 6: Características [0.7 0.  0.6 0.2 0.3 0.9 0.2 0.6 0.1] -> Negativo\n",
            "Persona 7: Características [0.9 0.5 0.1 0.9 0.5 0.3 0.6 0.4 0. ] -> Negativo\n",
            "Persona 8: Características [0.4 1.  0.  0.8 0.7 0.8 0.7 0.7 0.5] -> Negativo\n",
            "Persona 9: Características [0.9 0.1 0.4 0.2 0.9 0.5 0.2 0.5 0.8] -> Negativo\n",
            "Persona 10: Características [0.9 0.8 0.9 0.  1.  0.8 0.4 0.9 0.8] -> Negativo\n",
            "\n",
            "¿Desea ingresar un vector de características manualmente? (y/n): n\n",
            "¿Desea realizar otra prueba con nuevos vectores aleatorios? (y/n): y\n",
            "\u001b[1m1/1\u001b[0m \u001b[32m━━━━━━━━━━━━━━━━━━━━\u001b[0m\u001b[37m\u001b[0m \u001b[1m0s\u001b[0m 40ms/step\n",
            "Resultados de la prueba:\n",
            "Persona 1: Características [0.1 0.8 0.3 1.  0.3 0.2 1.  0.2 0.5] -> Negativo\n",
            "Persona 2: Características [0.4 0.7 0.3 0.9 0.3 0.4 0.9 0.7 0.4] -> Negativo\n",
            "Persona 3: Características [0.  0.1 0.2 0.8 0.9 1.  0.1 1.  1. ] -> Positivo\n",
            "Persona 4: Características [1.  1.  0.3 0.7 0.3 0.2 1.  0.1 0.1] -> Negativo\n",
            "Persona 5: Características [1.  0.7 0.8 0.3 0.3 0.9 0.8 0.3 0.8] -> Negativo\n",
            "Persona 6: Características [0.7 0.  0.5 0.4 0.5 0.9 0.9 0.2 0.7] -> Negativo\n",
            "Persona 7: Características [0.2 0.9 0.2 0.7 0.4 0.9 0.6 0.8 0.9] -> Negativo\n",
            "Persona 8: Características [0.2 0.  1.  1.  0.5 0.6 0.4 0.5 1. ] -> Negativo\n",
            "Persona 9: Características [0.3 0.4 0.8 0.7 0.8 0.4 0.9 0.7 0.9] -> Negativo\n",
            "Persona 10: Características [0.2 1.  0.3 0.8 0.  0.8 0.  0.9 0.3] -> Negativo\n",
            "\n",
            "¿Desea ingresar un vector de características manualmente? (y/n): y\n",
            "Ingrese 9 números separados por espacio: 0 0.1 0.2 0.8 0.9 1 0.1 1 1\n",
            "\u001b[1m1/1\u001b[0m \u001b[32m━━━━━━━━━━━━━━━━━━━━\u001b[0m\u001b[37m\u001b[0m \u001b[1m0s\u001b[0m 71ms/step\n",
            "Diagnóstico: Positivo\n",
            "\n",
            "\n",
            "¿Desea ingresar un vector de características manualmente? (y/n): n\n",
            "¿Desea realizar otra prueba con nuevos vectores aleatorios? (y/n): y\n",
            "\u001b[1m1/1\u001b[0m \u001b[32m━━━━━━━━━━━━━━━━━━━━\u001b[0m\u001b[37m\u001b[0m \u001b[1m0s\u001b[0m 38ms/step\n",
            "Resultados de la prueba:\n",
            "Persona 1: Características [0.6 0.6 0.7 0.9 0.2 0.8 0.7 0.5 0. ] -> Negativo\n",
            "Persona 2: Características [0.5 0.3 0.  0.6 0.4 0.2 0.7 0.3 0.9] -> Negativo\n",
            "Persona 3: Características [0.1 0.2 0.8 0.9 0.3 0.5 0.1 0.4 0. ] -> Negativo\n",
            "Persona 4: Características [0.6 0.5 0.8 0.8 0.4 1.  0.9 0.4 0.8] -> Negativo\n",
            "Persona 5: Características [0.1 0.1 0.1 0.5 0.3 0.5 0.5 1.  1. ] -> Negativo\n",
            "Persona 6: Características [0.4 0.4 0.2 0.1 1.  0.3 0.7 0.9 0.9] -> Negativo\n",
            "Persona 7: Características [0.6 0.3 0.5 0.4 0.  1.  0.1 0.3 0.4] -> Negativo\n",
            "Persona 8: Características [0.3 0.9 0.2 0.5 0.9 0.8 0.  0.9 0. ] -> Positivo\n",
            "Persona 9: Características [0.4 0.7 0.3 1.  0.1 0.9 0.8 0.1 1. ] -> Negativo\n",
            "Persona 10: Características [0.8 0.6 0.5 0.6 0.  0.4 0.  0.4 0.1] -> Negativo\n",
            "\n",
            "¿Desea ingresar un vector de características manualmente? (y/n): n\n",
            "¿Desea realizar otra prueba con nuevos vectores aleatorios? (y/n): n\n"
          ]
        }
      ]
    }
  ]
}
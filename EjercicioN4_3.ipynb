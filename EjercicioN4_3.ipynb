{
  "nbformat": 4,
  "nbformat_minor": 0,
  "metadata": {
    "colab": {
      "provenance": [],
      "authorship_tag": "ABX9TyPJxosRf1uFD/NvcqQGlqXh",
      "include_colab_link": true
    },
    "kernelspec": {
      "name": "python3",
      "display_name": "Python 3"
    },
    "language_info": {
      "name": "python"
    }
  },
  "cells": [
    {
      "cell_type": "markdown",
      "metadata": {
        "id": "view-in-github",
        "colab_type": "text"
      },
      "source": [
        "<a href=\"https://colab.research.google.com/github/HeberPareja/IA-MiniRobots_2024-2/blob/master/EjercicioN4_3.ipynb\" target=\"_parent\"><img src=\"https://colab.research.google.com/assets/colab-badge.svg\" alt=\"Open In Colab\"/></a>"
      ]
    },
    {
      "cell_type": "markdown",
      "source": [
        "*   Ejercicio N° 4.3\n",
        "*   Universidad Nacional de Colombia\n",
        "*   Inteligencia Artificial y Mini-Robots 2024-2\n",
        "*   Heber Alexander Pareja Romero\n",
        "*   haparejar@unal.edu.co"
      ],
      "metadata": {
        "id": "pSoYS4LnMYJF"
      }
    },
    {
      "cell_type": "markdown",
      "source": [
        "# **<> Introducción**"
      ],
      "metadata": {
        "id": "b-4WKfLxny80"
      }
    },
    {
      "cell_type": "markdown",
      "source": [
        "Este código implementa un algoritmo evolutivo para optimizar la trayectoria de un robot dentro de una cuadrícula de 5x5, con el objetivo de visitar la mayor cantidad posible de ingenieros ubicados en posiciones fijas. A través de generaciones sucesivas, el programa evalúa una población de soluciones (rutas), selecciona las mejores mediante un torneo, aplica cruza y mutación para generar nuevas soluciones y repite el proceso hasta completar un número determinado de generaciones. Al final, imprime la mejor ruta encontrada junto con su puntuación y la representa gráficamente."
      ],
      "metadata": {
        "id": "-kezOJszk93u"
      }
    },
    {
      "cell_type": "markdown",
      "source": [
        "# <> **Desarrollo**"
      ],
      "metadata": {
        "id": "M99Bvx-SnXD_"
      }
    },
    {
      "cell_type": "code",
      "source": [
        "import random\n",
        "import numpy as np\n",
        "import matplotlib.pyplot as plt\n",
        "\n",
        "# Configuración del problema\n",
        "GRID_SIZE = 5\n",
        "ENGINEERS = [(1, 1), (3, 3), (4, 4)]\n",
        "MAX_GENERATIONS = 20\n",
        "POPULATION_SIZE = 10\n",
        "MAX_PROGRAM_LENGTH = 10\n",
        "MUTATION_RATE = 0.2\n",
        "\n",
        "# Movimientos posibles\n",
        "MOVES = {\n",
        "    \"N\": (-1, 0),\n",
        "    \"S\": (1, 0),\n",
        "    \"E\": (0, 1),\n",
        "    \"W\": (0, -1),\n",
        "    \"Stay\": (0, 0),\n",
        "}\n",
        "\n",
        "# Generar un programa aleatorio\n",
        "def random_program():\n",
        "    return [random.choice(list(MOVES.keys())) for _ in range(random.randint(1, MAX_PROGRAM_LENGTH))]\n",
        "\n",
        "# Ejecutar un programa y calcular la aptitud\n",
        "def execute_program(program):\n",
        "    x, y = 0, 0  # Posición inicial del robot\n",
        "    visited = set()\n",
        "    trajectory = [(x, y)]\n",
        "    score = 0\n",
        "\n",
        "    for move in program:\n",
        "        dx, dy = MOVES[move]\n",
        "        new_x, new_y = x + dx, y + dy\n",
        "\n",
        "        # Mantener al robot dentro de la cuadrícula\n",
        "        new_x = max(0, min(GRID_SIZE - 1, new_x))\n",
        "        new_y = max(0, min(GRID_SIZE - 1, new_y))\n",
        "\n",
        "        # Evitar moverse al mismo lugar repetidamente\n",
        "        if (new_x, new_y) == (x, y):\n",
        "            continue\n",
        "\n",
        "        x, y = new_x, new_y\n",
        "        trajectory.append((x, y))\n",
        "\n",
        "        # Si hay un ingeniero en la posición actual y no ha sido visitado\n",
        "        if (x, y) in ENGINEERS and (x, y) not in visited:\n",
        "            score += 10\n",
        "            visited.add((x, y))\n",
        "\n",
        "    return score, trajectory\n",
        "\n",
        "# Evaluar la población\n",
        "def evaluate_population(population):\n",
        "    scores = []\n",
        "    trajectories = []\n",
        "    for program in population:\n",
        "        score, trajectory = execute_program(program)\n",
        "        scores.append(score)\n",
        "        trajectories.append(trajectory)\n",
        "    return scores, trajectories\n",
        "\n",
        "# Selección por torneo\n",
        "def tournament_selection(population, scores):\n",
        "    tournament_size = 3\n",
        "    best_program = None\n",
        "    best_score = -float(\"inf\")\n",
        "    for _ in range(tournament_size):\n",
        "        idx = random.randint(0, len(population) - 1)\n",
        "        if scores[idx] > best_score:\n",
        "            best_score = scores[idx]\n",
        "            best_program = population[idx]\n",
        "    return best_program\n",
        "\n",
        "# Crossover entre dos programas\n",
        "def crossover(program1, program2):\n",
        "    point1 = random.randint(0, len(program1) - 1)\n",
        "    point2 = random.randint(0, len(program2) - 1)\n",
        "    child = program1[:point1] + program2[point2:]\n",
        "    return child\n",
        "\n",
        "# Mutación de un programa\n",
        "def mutate(program):\n",
        "    if random.random() < MUTATION_RATE:\n",
        "        if random.random() < 0.5 and program:\n",
        "            # Cambiar un movimiento existente\n",
        "            idx = random.randint(0, len(program) - 1)\n",
        "            program[idx] = random.choice(list(MOVES.keys()))\n",
        "        else:\n",
        "            # Agregar un nuevo movimiento\n",
        "            program.append(random.choice(list(MOVES.keys())))\n",
        "    return program\n",
        "\n",
        "# Graficar la trayectoria\n",
        "def plot_trajectory(trajectory, title):\n",
        "    x, y = zip(*trajectory)\n",
        "    plt.figure(figsize=(6, 6))\n",
        "    plt.plot(y, x, marker=\"o\", label=\"Ruta del Robot\")\n",
        "    for ex, ey in ENGINEERS:\n",
        "        plt.scatter(ey, ex, c=\"red\", label=\"Ingeniero\" if (ex, ey) == ENGINEERS[0] else \"\")\n",
        "    plt.xlim(-0.5, GRID_SIZE - 0.5)\n",
        "    plt.ylim(-0.5, GRID_SIZE - 0.5)\n",
        "    plt.gca().invert_yaxis()\n",
        "    plt.grid(True)\n",
        "    plt.legend()\n",
        "    plt.title(title)\n",
        "    plt.xlabel(\"Columna\")\n",
        "    plt.ylabel(\"Fila\")\n",
        "    plt.show()\n",
        "\n",
        "# Inicialización de la población\n",
        "population = [random_program() for _ in range(POPULATION_SIZE)]\n",
        "\n",
        "# Ciclo evolutivo\n",
        "for _ in range(MAX_GENERATIONS):\n",
        "    # Evaluar la población\n",
        "    scores, trajectories = evaluate_population(population)\n",
        "\n",
        "    # Selección de los mejores individuos\n",
        "    new_population = []\n",
        "    for _ in range(POPULATION_SIZE):\n",
        "        parent1 = tournament_selection(population, scores)\n",
        "        parent2 = tournament_selection(population, scores)\n",
        "        child = crossover(parent1, parent2)\n",
        "        child = mutate(child)\n",
        "        new_population.append(child)\n",
        "\n",
        "    population = new_population\n",
        "\n",
        "# Mejor individuo final\n",
        "final_scores, final_trajectories = evaluate_population(population)\n",
        "best_idx = np.argmax(final_scores)\n",
        "print(\"\\nMejor solución encontrada:\")\n",
        "print(f\"Puntuación = {final_scores[best_idx]}\")\n",
        "print(f\"Trayectoria = {final_trajectories[best_idx]}\")\n",
        "plot_trajectory(final_trajectories[best_idx], \"Mejor Solución Final\")"
      ],
      "metadata": {
        "id": "ro3yFNyfl2xP",
        "colab": {
          "base_uri": "https://localhost:8080/",
          "height": 654
        },
        "outputId": "84f6f2c4-1770-4690-fc18-b36ddcc823bb"
      },
      "execution_count": 1,
      "outputs": [
        {
          "output_type": "stream",
          "name": "stdout",
          "text": [
            "\n",
            "Mejor solución encontrada:\n",
            "Puntuación = 30\n",
            "Trayectoria = [(0, 0), (0, 1), (1, 1), (1, 0), (2, 0), (3, 0), (3, 1), (3, 2), (3, 3), (4, 3), (4, 4), (4, 3), (4, 4), (4, 3), (4, 4), (4, 3), (4, 4), (4, 3), (4, 4), (4, 3), (4, 4), (4, 3)]\n"
          ]
        },
        {
          "output_type": "display_data",
          "data": {
            "text/plain": [
              "<Figure size 600x600 with 1 Axes>"
            ],
            "image/png": "[encoded data removed]"
          },
          "metadata": {}
        }
      ]
    },
    {
      "cell_type": "markdown",
      "source": [
        "# **<> Conclusiones**"
      ],
      "metadata": {
        "id": "b0qJOP2aNTk7"
      }
    },
    {
      "cell_type": "markdown",
      "source": [
        "El algoritmo evolutivo implementado demuestra ser una estrategia efectiva para optimizar la trayectoria de un robot en un entorno delimitado, maximizando su capacidad para visitar ingenieros dentro de la cuadrícula. A través de la selección, cruza y mutación, la población de soluciones evoluciona progresivamente hacia rutas más eficientes. Sin embargo, la calidad de la solución final depende de la configuración de los parámetros, como el tamaño de la población, la tasa de mutación y el número de generaciones. Este enfoque es aplicable a problemas similares de optimización de rutas en entornos restringidos, aunque podría beneficiarse de mejoras como un refinamiento local o ajustes adaptativos de los parámetros evolutivos."
      ],
      "metadata": {
        "id": "jD7OKQecNV2d"
      }
    }
  ]
}
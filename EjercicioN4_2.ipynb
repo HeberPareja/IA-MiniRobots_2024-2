{
  "nbformat": 4,
  "nbformat_minor": 0,
  "metadata": {
    "colab": {
      "provenance": [],
      "authorship_tag": "ABX9TyPVYoF+djZNw2t94aQP3/pB",
      "include_colab_link": true
    },
    "kernelspec": {
      "name": "python3",
      "display_name": "Python 3"
    },
    "language_info": {
      "name": "python"
    }
  },
  "cells": [
    {
      "cell_type": "markdown",
      "metadata": {
        "id": "view-in-github",
        "colab_type": "text"
      },
      "source": [
        "<a href=\"https://colab.research.google.com/github/HeberPareja/IA-MiniRobots_2024-2/blob/master/EjercicioN4_2.ipynb\" target=\"_parent\"><img src=\"https://colab.research.google.com/assets/colab-badge.svg\" alt=\"Open In Colab\"/></a>"
      ]
    },
    {
      "cell_type": "markdown",
      "source": [
        "*   Ejercicio N° 4.2\n",
        "*   Universidad Nacional de Colombia\n",
        "*   Inteligencia Artificial y Mini-Robots 2024-2\n",
        "*   Heber Alexander Pareja Romero\n",
        "*   haparejar@unal.edu.co"
      ],
      "metadata": {
        "id": "pSoYS4LnMYJF"
      }
    },
    {
      "cell_type": "markdown",
      "source": [
        "# **<> Introducción**"
      ],
      "metadata": {
        "id": "b-4WKfLxny80"
      }
    },
    {
      "cell_type": "markdown",
      "source": [
        "Este código utiliza programación genética para diseñar circuitos lógicos que simulan el comportamiento de un display de 7 segmentos, aplicando compuertas lógicas como AND, OR y XOR. La estructura del algoritmo genético involucra la creación de individuos (circuitos lógicos) que se evalúan en función de su capacidad para generar una salida correcta que se corresponda con la representación de segmentos de un número en un display. Mediante selección, cruce y mutación, el algoritmo busca optimizar la solución a lo largo de varias generaciones. La evaluación de los circuitos se realiza comparando su salida con la salida esperada, y la función de fitness premia aquellos circuitos que logran una mayor coincidencia con la salida correcta en términos de segmentos activados."
      ],
      "metadata": {
        "id": "-kezOJszk93u"
      }
    },
    {
      "cell_type": "markdown",
      "source": [
        "# <> **Desarrollo**"
      ],
      "metadata": {
        "id": "M99Bvx-SnXD_"
      }
    },
    {
      "cell_type": "code",
      "source": [
        "#!pip install networkx matplotlib deap\n",
        "\n",
        "import random\n",
        "import networkx as nx\n",
        "import matplotlib.pyplot as plt\n",
        "from deap import base, creator, tools, algorithms\n",
        "\n",
        "\n",
        "# --------------------- CONFIGURACIÓN DEL PROBLEMA ---------------------\n",
        "GATE_TYPES = [\"AND\", \"OR\", \"XOR\"]  # Tipos de compuertas lógicas disponibles\n",
        "NUM_GATES = 6  # Número de compuertas intermedias\n",
        "\n",
        "# Mapeo de salida decimal a segmentos activados en un display de 7 segmentos\n",
        "SEGMENT_MAP = {\n",
        "    0: [\"a\", \"b\", \"c\", \"d\", \"e\", \"f\"],\n",
        "    1: [\"b\", \"c\"],\n",
        "    2: [\"a\", \"b\", \"g\", \"e\", \"d\"],\n",
        "    3: [\"a\", \"b\", \"g\", \"c\", \"d\"],\n",
        "    4: [\"f\", \"g\", \"b\", \"c\"],\n",
        "    5: [\"a\", \"f\", \"g\", \"c\", \"d\"],\n",
        "    6: [\"a\", \"f\", \"g\", \"e\", \"c\", \"d\"],\n",
        "    7: [\"a\", \"b\", \"c\"]\n",
        "}\n",
        "\n",
        "# Función para evaluar las compuertas lógicas\n",
        "def apply_gate(gate_type, a, b):\n",
        "    if gate_type == \"AND\":\n",
        "        return a & b\n",
        "    elif gate_type == \"OR\":\n",
        "        return a | b\n",
        "    elif gate_type == \"XOR\":\n",
        "        return a ^ b\n",
        "    return 0\n",
        "\n",
        "# Evaluar un circuito con un conjunto de entradas\n",
        "def evaluate_circuit(inputs_values, circuit):\n",
        "    values = {f\"ARG{i}\": inputs_values[i] for i in range(len(inputs_values))}\n",
        "\n",
        "    values[\"GATE0\"] = apply_gate(circuit[0], values[\"ARG2\"], values[\"ARG1\"])\n",
        "    values[\"GATE1\"] = apply_gate(circuit[1], values[\"ARG2\"], values[\"ARG0\"])\n",
        "    values[\"GATE2\"] = apply_gate(circuit[2], values[\"GATE0\"], 1)\n",
        "    values[\"GATE3\"] = apply_gate(circuit[3], values[\"GATE2\"], values[\"GATE1\"])\n",
        "    values[\"GATE4\"] = apply_gate(circuit[4], values[\"GATE3\"], values[\"ARG0\"])\n",
        "    values[\"GATE5\"] = apply_gate(circuit[5], values[\"GATE1\"], values[\"GATE4\"])\n",
        "\n",
        "    return values[\"GATE5\"]\n",
        "\n",
        "# Función para mostrar el número en un display de 7 segmentos\n",
        "def draw_seven_segment(segments):\n",
        "    fig, ax = plt.subplots()\n",
        "    ax.set_xlim(-1.5, 1.5)\n",
        "    ax.set_ylim(-2, 2)\n",
        "    ax.set_xticks([])\n",
        "    ax.set_yticks([])\n",
        "    ax.set_frame_on(False)\n",
        "\n",
        "    segment_coords = {\n",
        "        \"a\": [(0.5, 1), (-0.5, 1)],\n",
        "        \"b\": [(0.5, 1), (0.5, 0)],\n",
        "        \"c\": [(0.5, 0), (0.5, -1)],\n",
        "        \"d\": [(0.5, -1), (-0.5, -1)],\n",
        "        \"e\": [(-0.5, -1), (-0.5, 0)],\n",
        "        \"f\": [(-0.5, 0), (-0.5, 1)],\n",
        "        \"g\": [(0.5, 0), (-0.5, 0)]\n",
        "    }\n",
        "\n",
        "    for segment, coords in segment_coords.items():\n",
        "        color = 'red' if segment in segments else 'gray'\n",
        "        ax.plot([coords[0][0], coords[1][0]], [coords[0][1], coords[1][1]], linewidth=5, color=color)\n",
        "\n",
        "    plt.show()\n",
        "\n",
        "# --------------------- PROGRAMACIÓN GENÉTICA ---------------------\n",
        "# Definimos los componentes del algoritmo genético\n",
        "creator.create(\"FitnessMax\", base.Fitness, weights=(1.0,))  # Maximizar la salida correcta\n",
        "creator.create(\"Individual\", list, fitness=creator.FitnessMax)\n",
        "\n",
        "# Función para generar un individuo aleatorio (circuito lógico)\n",
        "def create_individual():\n",
        "    return [random.choice(GATE_TYPES) for _ in range(NUM_GATES)]\n",
        "\n",
        "# Función de evaluación de fitness: evalúa cómo de bien un circuito genera la salida correcta\n",
        "def evaluate(individual):\n",
        "    # Simulamos las entradas aleatorias\n",
        "    test_inputs = [random.randint(0, 1) for _ in range(3)]\n",
        "    decimal_output = int(\"\".join(map(str, test_inputs)), 2)\n",
        "    segment_output = SEGMENT_MAP.get(decimal_output, [])\n",
        "\n",
        "    # Evaluamos el circuito\n",
        "    circuit_output = evaluate_circuit(test_inputs, individual)\n",
        "\n",
        "    # Calculamos la diferencia entre la salida del circuito y la salida esperada\n",
        "    fitness = sum([1 if segment in segment_output else 0 for segment in SEGMENT_MAP[decimal_output]])\n",
        "\n",
        "    return (fitness,)\n",
        "\n",
        "# Operadores genéticos\n",
        "toolbox = base.Toolbox()\n",
        "toolbox.register(\"individual\", tools.initIterate, creator.Individual, create_individual)\n",
        "toolbox.register(\"population\", tools.initRepeat, list, toolbox.individual)\n",
        "toolbox.register(\"mate\", tools.cxTwoPoint)\n",
        "toolbox.register(\"mutate\", tools.mutUniformInt, low=0, up=len(GATE_TYPES)-1, indpb=0.2)\n",
        "toolbox.register(\"select\", tools.selTournament, tournsize=3)\n",
        "toolbox.register(\"evaluate\", evaluate)\n",
        "\n",
        "# --------------------- ALGORITMO GENÉTICO ---------------------\n",
        "def main():\n",
        "    population = toolbox.population(n=100)\n",
        "\n",
        "    # Algoritmo genético\n",
        "    for gen in range(50):  # 50 generaciones\n",
        "        offspring = toolbox.select(population, len(population))\n",
        "        offspring = list(map(toolbox.clone, offspring))\n",
        "\n",
        "        for child1, child2 in zip(offspring[::2], offspring[1::2]):\n",
        "            if random.random() < 0.7:  # Probabilidad de cruce\n",
        "                toolbox.mate(child1, child2)\n",
        "                del child1.fitness.values\n",
        "                del child2.fitness.values\n",
        "\n",
        "        for mutant in offspring:\n",
        "            if random.random() < 0.2:  # Probabilidad de mutación\n",
        "                toolbox.mutate(mutant)\n",
        "                del mutant.fitness.values\n",
        "\n",
        "        # Evaluación\n",
        "        invalid_individuals = [ind for ind in offspring if not ind.fitness.valid]\n",
        "        fitnesses = map(toolbox.evaluate, invalid_individuals)\n",
        "        for ind, fit in zip(invalid_individuals, fitnesses):\n",
        "            ind.fitness.values = fit\n",
        "\n",
        "        population[:] = offspring\n",
        "        print(f\"Generación {gen}: Mejor fitness {max([ind.fitness.values[0] for ind in population])}\")\n",
        "\n",
        "    # Mostrar el mejor circuito\n",
        "    best_individual = tools.selBest(population, 1)[0]\n",
        "    print(\"Mejor circuito encontrado:\", best_individual)\n",
        "\n",
        "    # Mostrar las entradas y el número decimal\n",
        "    test_inputs = [random.randint(0, 1) for _ in range(3)]\n",
        "    decimal_output = int(\"\".join(map(str, test_inputs)), 2)\n",
        "    print(f\"Entradas: {test_inputs} → Número decimal: {decimal_output}\")\n",
        "\n",
        "    segment_output = SEGMENT_MAP.get(decimal_output, [])\n",
        "    draw_seven_segment(segment_output)\n",
        "\n",
        "if __name__ == \"__main__\":\n",
        "    main()\n",
        "\n"
      ],
      "metadata": {
        "id": "ro3yFNyfl2xP",
        "colab": {
          "base_uri": "https://localhost:8080/",
          "height": 1000
        },
        "outputId": "df1819b3-7aa3-4c0b-eb98-aade67380ecf"
      },
      "execution_count": 10,
      "outputs": [
        {
          "output_type": "stream",
          "name": "stdout",
          "text": [
            "Generación 0: Mejor fitness 6.0\n",
            "Generación 1: Mejor fitness 6.0\n",
            "Generación 2: Mejor fitness 6.0\n",
            "Generación 3: Mejor fitness 6.0\n",
            "Generación 4: Mejor fitness 6.0\n",
            "Generación 5: Mejor fitness 6.0\n",
            "Generación 6: Mejor fitness 6.0\n",
            "Generación 7: Mejor fitness 6.0\n",
            "Generación 8: Mejor fitness 6.0\n",
            "Generación 9: Mejor fitness 6.0\n",
            "Generación 10: Mejor fitness 6.0\n",
            "Generación 11: Mejor fitness 6.0\n",
            "Generación 12: Mejor fitness 6.0\n",
            "Generación 13: Mejor fitness 6.0\n",
            "Generación 14: Mejor fitness 6.0\n",
            "Generación 15: Mejor fitness 6.0\n",
            "Generación 16: Mejor fitness 6.0\n",
            "Generación 17: Mejor fitness 6.0\n",
            "Generación 18: Mejor fitness 6.0\n",
            "Generación 19: Mejor fitness 6.0\n",
            "Generación 20: Mejor fitness 6.0\n",
            "Generación 21: Mejor fitness 6.0\n",
            "Generación 22: Mejor fitness 6.0\n",
            "Generación 23: Mejor fitness 6.0\n",
            "Generación 24: Mejor fitness 6.0\n",
            "Generación 25: Mejor fitness 6.0\n",
            "Generación 26: Mejor fitness 6.0\n",
            "Generación 27: Mejor fitness 6.0\n",
            "Generación 28: Mejor fitness 6.0\n",
            "Generación 29: Mejor fitness 6.0\n",
            "Generación 30: Mejor fitness 6.0\n",
            "Generación 31: Mejor fitness 6.0\n",
            "Generación 32: Mejor fitness 6.0\n",
            "Generación 33: Mejor fitness 6.0\n",
            "Generación 34: Mejor fitness 6.0\n",
            "Generación 35: Mejor fitness 6.0\n",
            "Generación 36: Mejor fitness 6.0\n",
            "Generación 37: Mejor fitness 6.0\n",
            "Generación 38: Mejor fitness 6.0\n",
            "Generación 39: Mejor fitness 6.0\n",
            "Generación 40: Mejor fitness 6.0\n",
            "Generación 41: Mejor fitness 6.0\n",
            "Generación 42: Mejor fitness 6.0\n",
            "Generación 43: Mejor fitness 6.0\n",
            "Generación 44: Mejor fitness 6.0\n",
            "Generación 45: Mejor fitness 6.0\n",
            "Generación 46: Mejor fitness 6.0\n",
            "Generación 47: Mejor fitness 6.0\n",
            "Generación 48: Mejor fitness 6.0\n",
            "Generación 49: Mejor fitness 6.0\n",
            "Mejor circuito encontrado: [2, 1, 'OR', 2, 'OR', 1]\n",
            "Entradas: [0, 0, 1] → Número decimal: 1\n"
          ]
        },
        {
          "output_type": "display_data",
          "data": {
            "text/plain": [
              "<Figure size 640x480 with 1 Axes>"
            ],
            "image/png": "[encoded data removed]"
          },
          "metadata": {}
        }
      ]
    },
    {
      "cell_type": "markdown",
      "source": [
        "# **<> Conclusiones**"
      ],
      "metadata": {
        "id": "b0qJOP2aNTk7"
      }
    },
    {
      "cell_type": "markdown",
      "source": [
        "El uso de programación genética en este código demuestra su efectividad para optimizar circuitos lógicos que simulan el comportamiento de un display de 7 segmentos. A través de la evolución de generaciones, el algoritmo mejora progresivamente los individuos, permitiendo encontrar soluciones cada vez más precisas. Esto muestra cómo los métodos evolutivos pueden ser aplicados en problemas de diseño de circuitos lógicos, evidenciando su potencial para resolver problemas complejos de manera eficiente, a la vez que proporcionan una forma adaptable y flexible de encontrar soluciones óptimas sin necesidad de un conocimiento explícito de las respuestas correctas desde el principio."
      ],
      "metadata": {
        "id": "jD7OKQecNV2d"
      }
    }
  ]
}
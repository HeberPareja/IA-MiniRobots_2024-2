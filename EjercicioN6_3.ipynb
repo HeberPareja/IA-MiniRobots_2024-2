{
  "nbformat": 4,
  "nbformat_minor": 0,
  "metadata": {
    "colab": {
      "provenance": [],
      "authorship_tag": "ABX9TyOeukvT8VpWt88DP42ITqsU",
      "include_colab_link": true
    },
    "kernelspec": {
      "name": "python3",
      "display_name": "Python 3"
    },
    "language_info": {
      "name": "python"
    }
  },
  "cells": [
    {
      "cell_type": "markdown",
      "metadata": {
        "id": "view-in-github",
        "colab_type": "text"
      },
      "source": [
        "<a href=\"https://colab.research.google.com/github/HeberPareja/IA-MiniRobots_2024-2/blob/master/EjercicioN6_3.ipynb\" target=\"_parent\"><img src=\"https://colab.research.google.com/assets/colab-badge.svg\" alt=\"Open In Colab\"/></a>"
      ]
    },
    {
      "cell_type": "markdown",
      "source": [
        "*   Ejercicio N° 6.3\n",
        "*   Universidad Nacional de Colombia\n",
        "*   Inteligencia Artificial y Mini-Robots 2024-2\n",
        "*   Heber Alexander Pareja Romero\n",
        "*   haparejar@unal.edu.co"
      ],
      "metadata": {
        "id": "s_vH5_aTMQLm"
      }
    },
    {
      "cell_type": "markdown",
      "source": [
        "# **<> Referencia: Clasificador KNN - Victor Romero Bautista**"
      ],
      "metadata": {
        "id": "e7HJqxM-VPC8"
      }
    },
    {
      "cell_type": "markdown",
      "source": [
        "https://www.youtube.com/watch?v=qv0rb_A0f3M"
      ],
      "metadata": {
        "id": "Q0HJYp5IQ57v"
      }
    },
    {
      "cell_type": "markdown",
      "source": [
        "# **<> Introducción**"
      ],
      "metadata": {
        "id": "LN0szeYYSCxs"
      }
    },
    {
      "cell_type": "markdown",
      "source": [
        "Este código, encontrado en YouTube (referencia en la parte superior), implementa un clasificador k-Nearest Neighbors (KNN) para clasificar individuos en dos categorías según su peso y estatura. Utiliza la distancia euclidiana para calcular la cercanía entre los puntos y asignar una clase mediante votación mayoritaria de los k vecinos más cercanos. Además, genera una visualización gráfica de los datos y las nuevas clasificaciones, facilitando su interpretación."
      ],
      "metadata": {
        "id": "Bb3PH8ehSHm-"
      }
    },
    {
      "cell_type": "markdown",
      "source": [
        "# **<> Desarrollo**"
      ],
      "metadata": {
        "id": "tRgv7F79OwPp"
      }
    },
    {
      "cell_type": "markdown",
      "source": [
        "Se implementa un clasificador basado en el algoritmo k-Nearest Neighbors (KNN). La clase KNN tiene dos métodos principales: aprendizaje, que almacena los datos de entrenamiento X junto con sus clases C, y clasificacion, que clasifica nuevos datos Y comparando sus distancias con los datos de entrenamiento usando la distancia euclidiana. Para cada punto de entrada, encuentra los k vecinos más cercanos y asigna la clase más común entre ellos usando el método de votación mayoritaria con la librería Counter."
      ],
      "metadata": {
        "id": "OsZZQ6ceOzlG"
      }
    },
    {
      "cell_type": "code",
      "execution_count": 2,
      "metadata": {
        "id": "uHqCI2PeNgyL"
      },
      "outputs": [],
      "source": [
        "# -*- coding: utf-8 -*-\n",
        "\"\"\"\n",
        "Created on Fri Oct  2 17:49:29 2020\n",
        "\n",
        "@author: Victor\n",
        "\"\"\"\n",
        "import numpy as np\n",
        "from collections import Counter\n",
        "\n",
        "class KNN:\n",
        "    def __init__(self, k=3):\n",
        "        self.k = k\n",
        "\n",
        "    def aprendizaje(self,X,C):\n",
        "        self.X=X # matriz de vectores de caracteristicas\n",
        "        self.c=C # clases asociadas a cada vector x(n)\n",
        "        self.n_muestras=X.shape[1] # cantidad de muestras\n",
        "\n",
        "    def clasificacion(self,Y):\n",
        "        clases=[]\n",
        "        for i in range(Y.shape[1]): # por cada vector y(n) a clasificar\n",
        "            distancias=np.empty(self.n_muestras)\n",
        "            for n in range(self.n_muestras): # por cada vector x(n) de caracteristicas\n",
        "                distancias[n]=EUCLIDIANA(self.X[:,n],Y[:,i])\n",
        "\n",
        "            # distancias mas cercanas\n",
        "            k_distancias=np.argsort(distancias)\n",
        "            # identificar las k distancias - clases\n",
        "            k_etiqueta=self.c[k_distancias[:self.k]]\n",
        "            print(k_etiqueta)\n",
        "            # votacion\n",
        "            c = Counter(k_etiqueta).most_common(1)#(5,0)\n",
        "            clases.append(c[0][0]) # almacenamos la clase asignada al vector y(n)\n",
        "        return clases\n",
        "\n",
        "\n",
        "def EUCLIDIANA(x,y):\n",
        "    return np.sqrt(np.sum((x-y)**2))"
      ]
    },
    {
      "cell_type": "markdown",
      "source": [
        "Se define un conjunto de datos con características de personas, específicamente peso y estatura, y los clasifica en dos grupos: niños y adultos. Los datos se representan como matrices y se combinan en una sola estructura llamada X, con sus respectivas etiquetas de clase en C. Luego, se definen nuevos puntos a clasificar en Y. Mediante un gráfico de dispersión, se visualizan los datos con diferentes colores y marcadores según su categoría, utilizando la biblioteca matplotlib. Finalmente, se agregan etiquetas a los ejes y un título al gráfico."
      ],
      "metadata": {
        "id": "2eVbCdCL-wKA"
      }
    },
    {
      "cell_type": "code",
      "source": [
        "# -*- coding: utf-8 -*-\n",
        "\"\"\"\n",
        "Created on Fri Oct  2 13:02:24 2020\n",
        "\n",
        "@author: Victor\n",
        "\"\"\"\n",
        "\n",
        "import numpy as np\n",
        "import matplotlib.pyplot as plt\n",
        "\n",
        "# x(n)--< Peso kg,Est. mtrs >---\n",
        "x1=np.array([[49],[1.43]]) # ninos\n",
        "x2=np.array([[51],[1.55]])\n",
        "x3=np.array([[57],[1.58]])\n",
        "x4=np.array([[47],[1.55]])\n",
        "x5=np.array([[54],[1.60]])\n",
        "x6=np.array([[56],[1.58]])\n",
        "x7=np.array([[59],[1.64]])\n",
        "x8=np.array([[53],[1.61]])\n",
        "x9=np.array([[58],[1.63]])\n",
        "x10=np.array([[52],[1.60]]) # adultos\n",
        "x11=np.array([[75],[1.73]])\n",
        "x12=np.array([[80],[1.75]])\n",
        "x13=np.array([[75],[1.69]])\n",
        "x14=np.array([[65],[1.71]])\n",
        "x15=np.array([[75],[1.79]])\n",
        "x16=np.array([[77],[1.76]])\n",
        "x17=np.array([[65],[1.71]])\n",
        "x18=np.array([[70],[1.70]])\n",
        "x19=np.array([[78],[1.81]])\n",
        "x20=np.array([[70],[1.67]])\n",
        "\n",
        "c0=np.zeros(10)\n",
        "c1=np.ones(10)\n",
        "\n",
        "X=np.concatenate((x1,x2,x3,x4,x5,x6,x7,x8,x9,x10,x11,x12,x13,x14,x15,x16,x17,x18,x19,x20),axis=1)\n",
        "C=np.concatenate((c0,c1),axis=0)\n",
        "C=np.uint8(C)\n",
        "\n",
        "# nuevos datos a clasificar con KNN\n",
        "y1=np.array([[62],[1.73]])\n",
        "y2=np.array([[70],[1.78]])\n",
        "y3=np.array([[53],[1.68]])\n",
        "Y=np.concatenate((y1,y2,y3),axis=1)\n",
        "\n",
        "for i in range(X.shape[1]):\n",
        "    if C[i]==0:\n",
        "        marcar='v'\n",
        "        color='red'\n",
        "    else:\n",
        "        marcar='o'\n",
        "        color='blue'\n",
        "    plt.scatter(x=X[0,i],y=X[1,i],c=color,s=100,marker=marcar)\n",
        "\n",
        "for j in range(Y.shape[1]):\n",
        "    plt.scatter(x=Y[0,j],y=Y[1,j],c='black',s=100,marker='s')\n",
        "\n",
        "plt.xlabel('Peso (kg)')\n",
        "plt.ylabel('Estatura (m)')\n",
        "plt.title('Clasificador KNN')\n",
        "plt.legend()"
      ],
      "metadata": {
        "colab": {
          "base_uri": "https://localhost:8080/",
          "height": 544
        },
        "id": "yQI5OSIZ7GNf",
        "outputId": "0f9e61e7-f601-4357-d4f5-4d7a3478f164"
      },
      "execution_count": 7,
      "outputs": [
        {
          "output_type": "stream",
          "name": "stderr",
          "text": [
            "<ipython-input-7-3c984591c0a8>:61: UserWarning: No artists with labels found to put in legend.  Note that artists whose label start with an underscore are ignored when legend() is called with no argument.\n",
            "  plt.legend()\n"
          ]
        },
        {
          "output_type": "execute_result",
          "data": {
            "text/plain": [
              "<matplotlib.legend.Legend at 0x7c4cc8534350>"
            ]
          },
          "metadata": {},
          "execution_count": 7
        },
        {
          "output_type": "display_data",
          "data": {
            "text/plain": [
              "<Figure size 640x480 with 1 Axes>"
            ],
            "image/png": "[encoded data removed]"
          },
          "metadata": {}
        }
      ]
    },
    {
      "cell_type": "markdown",
      "source": [
        "Se ejecuta el clasificador KNN tres veces con diferentes valores de k, específicamente 3, 5 y 15. En cada iteración, se crea una instancia del clasificador con el valor de k correspondiente, se realiza la fase de aprendizaje con los datos de entrenamiento X y sus clases C, y luego se clasifica el conjunto de datos Y. Finalmente, se imprimen los resultados de la clasificación para cada valor de k, permitiendo comparar cómo varía la asignación de clases según el número de vecinos considerados."
      ],
      "metadata": {
        "id": "C0Hbtgcq-6vB"
      }
    },
    {
      "cell_type": "code",
      "source": [
        "# iniciar KNN\n",
        "clasificador = KNN(k=3)\n",
        "clasificador.aprendizaje(X,C) # fase de aprendizaje\n",
        "clasificar = clasificador.clasificacion(Y)\n",
        "print('clases de los puntos y(n): ',clasificar)"
      ],
      "metadata": {
        "colab": {
          "base_uri": "https://localhost:8080/"
        },
        "id": "F2QfCkLP8Pp2",
        "outputId": "0dcd9bc8-a2dd-4028-d557-9a64465bd20f"
      },
      "execution_count": 10,
      "outputs": [
        {
          "output_type": "stream",
          "name": "stdout",
          "text": [
            "[1 1 0]\n",
            "[1 1 1]\n",
            "[0 0 0]\n",
            "clases de los puntos y(n):  [1, 1, 0]\n"
          ]
        }
      ]
    },
    {
      "cell_type": "code",
      "source": [
        "# iniciar KNN\n",
        "clasificador = KNN(k=5)\n",
        "clasificador.aprendizaje(X,C) # fase de aprendizaje\n",
        "clasificar = clasificador.clasificacion(Y)\n",
        "print('clases de los puntos y(n): ',clasificar)"
      ],
      "metadata": {
        "colab": {
          "base_uri": "https://localhost:8080/"
        },
        "id": "LbO8TaaM8RsR",
        "outputId": "4f1995d3-2324-4278-d5c5-049eba3fa856"
      },
      "execution_count": 11,
      "outputs": [
        {
          "output_type": "stream",
          "name": "stdout",
          "text": [
            "[1 1 0 0 0]\n",
            "[1 1 1 1 1]\n",
            "[0 0 0 0 0]\n",
            "clases de los puntos y(n):  [0, 1, 0]\n"
          ]
        }
      ]
    },
    {
      "cell_type": "code",
      "source": [
        "# iniciar KNN\n",
        "clasificador = KNN(k=15)\n",
        "clasificador.aprendizaje(X,C) # fase de aprendizaje\n",
        "clasificar = clasificador.clasificacion(Y)\n",
        "print('clases de los puntos y(n): ',clasificar)"
      ],
      "metadata": {
        "colab": {
          "base_uri": "https://localhost:8080/"
        },
        "id": "1fMl22h18G4E",
        "outputId": "cb8e9e41-4d7f-4843-eea4-302a6ef871f3"
      },
      "execution_count": 12,
      "outputs": [
        {
          "output_type": "stream",
          "name": "stdout",
          "text": [
            "[1 1 0 0 0 0 1 1 0 0 0 0 1 1 1]\n",
            "[1 1 1 1 1 1 1 1 1 1 0 0 0 0 0]\n",
            "[0 0 0 0 0 0 0 0 0 0 1 1 1 1 1]\n",
            "clases de los puntos y(n):  [0, 1, 0]\n"
          ]
        }
      ]
    },
    {
      "cell_type": "markdown",
      "source": [
        "# **<> Conclusiones**"
      ],
      "metadata": {
        "id": "7ljf2fD2NeJz"
      }
    },
    {
      "cell_type": "markdown",
      "source": [
        "A medida que el valor de k aumenta en el clasificador KNN, la clasificación de los nuevos puntos puede volverse más estable, pero también puede perder precisión al considerar vecinos más lejanos que pueden no ser representativos de la categoría real. Con valores bajos de k, el modelo es más sensible a la variabilidad de los datos, lo que puede generar clasificaciones más ajustadas pero también más propensas al ruido. Comparando los resultados para k=3, k=5 y k=15, se puede analizar cómo cambia la asignación de clases y determinar cuál es el mejor equilibrio entre precisión y estabilidad en función de los datos disponibles."
      ],
      "metadata": {
        "id": "yiOpFpoJNhh9"
      }
    }
  ]
}